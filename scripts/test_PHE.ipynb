{
 "cells": [
  {
   "cell_type": "code",
   "execution_count": 3,
   "id": "8eb3c26d-b47d-4df9-82c1-716c207c952c",
   "metadata": {},
   "outputs": [],
   "source": [
    "import sys\n",
    "sys.path.append(r\"C:\\Users\\peterdb1\\Documents\\Masters in ACM\\(i-j) 625.801-802 - ACM Master's Research\\Technical Work\\PHE\")"
   ]
  },
  {
   "cell_type": "code",
   "execution_count": 4,
   "id": "af090bc6-8105-4ea3-a389-aec47a9b046f",
   "metadata": {},
   "outputs": [],
   "source": [
    "import pandas as pd\n",
    "import numpy as np"
   ]
  },
  {
   "cell_type": "code",
   "execution_count": 16,
   "id": "43cc58bc-1665-47b9-b3ec-d6f21967980b",
   "metadata": {},
   "outputs": [
    {
     "name": "stdout",
     "output_type": "stream",
     "text": [
      "2\n",
      "3\n",
      "4\n",
      "5\n",
      "7\n",
      "8\n",
      "9\n",
      "10\n",
      "11\n",
      "15\n",
      "17\n",
      "21\n",
      "26\n",
      "27\n",
      "31\n",
      "32\n",
      "33\n",
      "34\n",
      "39\n",
      "40\n",
      "41\n",
      "43\n",
      "45\n",
      "50\n",
      "53\n",
      "54\n",
      "55\n",
      "56\n",
      "58\n",
      "60\n",
      "62\n",
      "63\n",
      "64\n",
      "71\n",
      "76\n",
      "77\n",
      "79\n",
      "81\n",
      "82\n",
      "84\n",
      "85\n",
      "87\n",
      "88\n",
      "90\n",
      "91\n",
      "93\n",
      "94\n",
      "95\n",
      "96\n",
      "97\n"
     ]
    }
   ],
   "source": [
    "X = np.random.rand(100,2)\n",
    "y = np.random.randint(0,4,size=(100))\n",
    "\n",
    "data = np.hstack([X,y.reshape(-1,1)])\n",
    "\n",
    "include_classes = [0,1]\n",
    "\n",
    "for x, r in enumerate(data):\n",
    "    if int(r[-1]) in include_classes:\n",
    "        print(x)"
   ]
  }
 ],
 "metadata": {
  "kernelspec": {
   "display_name": "Python 3 (ipykernel)",
   "language": "python",
   "name": "python3"
  },
  "language_info": {
   "codemirror_mode": {
    "name": "ipython",
    "version": 3
   },
   "file_extension": ".py",
   "mimetype": "text/x-python",
   "name": "python",
   "nbconvert_exporter": "python",
   "pygments_lexer": "ipython3",
   "version": "3.10.18"
  }
 },
 "nbformat": 4,
 "nbformat_minor": 5
}
