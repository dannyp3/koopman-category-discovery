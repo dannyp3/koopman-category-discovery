{
 "cells": [
  {
   "cell_type": "markdown",
   "id": "03122fe6-3949-4a9a-90f4-024ae532d7f5",
   "metadata": {},
   "source": [
    "## Testing Classification using KCM"
   ]
  },
  {
   "cell_type": "code",
   "execution_count": 1,
   "id": "87b35c98-3c42-4e04-be3a-ffea1a2f94f8",
   "metadata": {},
   "outputs": [],
   "source": [
    "%load_ext autoreload\n",
    "%autoreload 2\n",
    "\n",
    "from sklearn.svm import SVC\n",
    "# from kcm import KoopmanCategoryModel, plot_confusion\n",
    "from kcm.koopman_category_model import KoopmanCategoryModel\n",
    "import numpy as np\n",
    "\n",
    "import warnings\n",
    "warnings.filterwarnings('ignore')"
   ]
  },
  {
   "cell_type": "code",
   "execution_count": 3,
   "id": "5d86d047-7452-4be0-b042-f71aae70cd5f",
   "metadata": {},
   "outputs": [
    {
     "name": "stdout",
     "output_type": "stream",
     "text": [
      "Loading data in at C:\\Users\\peterdb1\\Documents\\Masters in ACM\\(i-j) 625.801-802 - ACM Master's Research\\Technical Work\\koopman-category-discovery\\data\\1-dimensional-systems\\dataset_10_class_100_noisy_samples.pkl...\n"
     ]
    },
    {
     "ename": "FileNotFoundError",
     "evalue": "[Errno 2] No such file or directory: \"C:\\\\Users\\\\peterdb1\\\\Documents\\\\Masters in ACM\\\\(i-j) 625.801-802 - ACM Master's Research\\\\Technical Work\\\\koopman-category-discovery\\\\data\\\\1-dimensional-systems\\\\dataset_10_class_100_noisy_samples.pkl\"",
     "output_type": "error",
     "traceback": [
      "\u001b[1;31m---------------------------------------------------------------------------\u001b[0m",
      "\u001b[1;31mFileNotFoundError\u001b[0m                         Traceback (most recent call last)",
      "Cell \u001b[1;32mIn[3], line 18\u001b[0m\n\u001b[0;32m     15\u001b[0m noisy_data\u001b[38;5;241m=\u001b[39m\u001b[38;5;28;01mTrue\u001b[39;00m\n\u001b[0;32m     16\u001b[0m normalize_inputs\u001b[38;5;241m=\u001b[39m\u001b[38;5;28;01mTrue\u001b[39;00m,\n\u001b[1;32m---> 18\u001b[0m KCM \u001b[38;5;241m=\u001b[39m \u001b[43mKoopmanCategoryModel\u001b[49m\u001b[43m(\u001b[49m\u001b[43mnum_cats\u001b[49m\u001b[38;5;241;43m=\u001b[39;49m\u001b[43mnum_cats\u001b[49m\u001b[43m,\u001b[49m\n\u001b[0;32m     19\u001b[0m \u001b[43m                           \u001b[49m\u001b[43mnum_samples\u001b[49m\u001b[38;5;241;43m=\u001b[39;49m\u001b[43mnum_samples\u001b[49m\u001b[43m,\u001b[49m\n\u001b[0;32m     20\u001b[0m \u001b[43m                           \u001b[49m\u001b[43msystem_dimension\u001b[49m\u001b[38;5;241;43m=\u001b[39;49m\u001b[43msystem_dimension\u001b[49m\u001b[43m,\u001b[49m\n\u001b[0;32m     21\u001b[0m \u001b[43m                           \u001b[49m\u001b[43mdelay_embeddings\u001b[49m\u001b[38;5;241;43m=\u001b[39;49m\u001b[43mdelay_embeddings\u001b[49m\u001b[43m,\u001b[49m\n\u001b[0;32m     22\u001b[0m \u001b[43m                           \u001b[49m\u001b[43mnum_segments\u001b[49m\u001b[38;5;241;43m=\u001b[39;49m\u001b[43mnum_segments\u001b[49m\u001b[43m,\u001b[49m\n\u001b[0;32m     23\u001b[0m \u001b[43m                           \u001b[49m\u001b[43msvd_rank\u001b[49m\u001b[38;5;241;43m=\u001b[39;49m\u001b[43msvd_rank\u001b[49m\u001b[43m,\u001b[49m\n\u001b[0;32m     24\u001b[0m \u001b[43m                           \u001b[49m\u001b[43mdmd_rank\u001b[49m\u001b[38;5;241;43m=\u001b[39;49m\u001b[43mdmd_rank\u001b[49m\u001b[43m,\u001b[49m\n\u001b[0;32m     25\u001b[0m \u001b[43m                           \u001b[49m\u001b[43mq\u001b[49m\u001b[38;5;241;43m=\u001b[39;49m\u001b[43mq\u001b[49m\u001b[43m,\u001b[49m\n\u001b[0;32m     26\u001b[0m \u001b[43m                           \u001b[49m\u001b[43mcluster_method\u001b[49m\u001b[38;5;241;43m=\u001b[39;49m\u001b[38;5;124;43m'\u001b[39;49m\u001b[38;5;124;43mkmeans\u001b[39;49m\u001b[38;5;124;43m'\u001b[39;49m\u001b[43m,\u001b[49m\n\u001b[0;32m     27\u001b[0m \u001b[43m                           \u001b[49m\u001b[43mnum_clusters\u001b[49m\u001b[38;5;241;43m=\u001b[39;49m\u001b[43mnum_clusters\u001b[49m\u001b[43m,\u001b[49m\n\u001b[0;32m     28\u001b[0m \u001b[43m                           \u001b[49m\u001b[43mnoisy_data\u001b[49m\u001b[38;5;241;43m=\u001b[39;49m\u001b[43mnoisy_data\u001b[49m\u001b[43m,\u001b[49m\n\u001b[0;32m     29\u001b[0m \u001b[43m                           \u001b[49m\u001b[43mnormalize_inputs\u001b[49m\u001b[38;5;241;43m=\u001b[39;49m\u001b[43mnormalize_inputs\u001b[49m\u001b[43m,\u001b[49m\n\u001b[0;32m     30\u001b[0m \u001b[43m                           \u001b[49m\u001b[43mseed\u001b[49m\u001b[38;5;241;43m=\u001b[39;49m\u001b[43mseed\u001b[49m\u001b[43m)\u001b[49m\n\u001b[0;32m     32\u001b[0m KCM\u001b[38;5;241m.\u001b[39mgenerate_data()\n\u001b[0;32m     33\u001b[0m KCM\u001b[38;5;241m.\u001b[39mtrain_test_split(test_size\u001b[38;5;241m=\u001b[39mtest_size,\n\u001b[0;32m     34\u001b[0m                      codebook_training_size\u001b[38;5;241m=\u001b[39mcodebook_training_size,\n\u001b[0;32m     35\u001b[0m                      category_discovery\u001b[38;5;241m=\u001b[39mcategory_discovery,\n\u001b[0;32m     36\u001b[0m                      num_train_classes\u001b[38;5;241m=\u001b[39mnum_train_classes)\n",
      "File \u001b[1;32m~\\Documents\\Masters in ACM\\(i-j) 625.801-802 - ACM Master's Research\\Technical Work\\koopman-category-discovery\\src\\kcm\\koopman_category_model.py:75\u001b[0m, in \u001b[0;36mKoopmanCategoryModel.__init__\u001b[1;34m(self, num_cats, num_samples, system_dimension, data_path, delay_embeddings, num_segments, svd_rank, dmd_rank, q, cluster_method, num_clusters, noisy_data, normalize_inputs, run_root, seed)\u001b[0m\n\u001b[0;32m     73\u001b[0m \u001b[38;5;28mself\u001b[39m\u001b[38;5;241m.\u001b[39mdata_path \u001b[38;5;241m=\u001b[39m data_path\n\u001b[0;32m     74\u001b[0m \u001b[38;5;28mself\u001b[39m\u001b[38;5;241m.\u001b[39mnoisy_data \u001b[38;5;241m=\u001b[39m noisy_data\n\u001b[1;32m---> 75\u001b[0m \u001b[38;5;28mself\u001b[39m\u001b[38;5;241m.\u001b[39mdataset \u001b[38;5;241m=\u001b[39m \u001b[38;5;28;43mself\u001b[39;49m\u001b[38;5;241;43m.\u001b[39;49m\u001b[43m_load_data\u001b[49m\u001b[43m(\u001b[49m\u001b[43mdata_path\u001b[49m\u001b[43m)\u001b[49m\n\u001b[0;32m     76\u001b[0m \u001b[38;5;28mself\u001b[39m\u001b[38;5;241m.\u001b[39mcats \u001b[38;5;241m=\u001b[39m \u001b[38;5;28mlist\u001b[39m(\u001b[38;5;28mself\u001b[39m\u001b[38;5;241m.\u001b[39mdataset\u001b[38;5;241m.\u001b[39mkeys())\n\u001b[0;32m     77\u001b[0m \u001b[38;5;28mself\u001b[39m\u001b[38;5;241m.\u001b[39mm, \u001b[38;5;28mself\u001b[39m\u001b[38;5;241m.\u001b[39mn \u001b[38;5;241m=\u001b[39m \u001b[38;5;28mself\u001b[39m\u001b[38;5;241m.\u001b[39mdataset[\u001b[38;5;28mself\u001b[39m\u001b[38;5;241m.\u001b[39mcats[\u001b[38;5;241m0\u001b[39m]][\u001b[38;5;241m0\u001b[39m][\u001b[38;5;124m'\u001b[39m\u001b[38;5;124my\u001b[39m\u001b[38;5;124m'\u001b[39m]\u001b[38;5;241m.\u001b[39mshape\n",
      "File \u001b[1;32m~\\Documents\\Masters in ACM\\(i-j) 625.801-802 - ACM Master's Research\\Technical Work\\koopman-category-discovery\\src\\kcm\\koopman_category_model.py:146\u001b[0m, in \u001b[0;36mKoopmanCategoryModel._load_data\u001b[1;34m(self, data_path)\u001b[0m\n\u001b[0;32m    142\u001b[0m     file_path \u001b[38;5;241m=\u001b[39m Path(\u001b[38;5;28mself\u001b[39m\u001b[38;5;241m.\u001b[39mdata_path)\n\u001b[0;32m    144\u001b[0m \u001b[38;5;28mprint\u001b[39m(\u001b[38;5;124mf\u001b[39m\u001b[38;5;124m'\u001b[39m\u001b[38;5;124mLoading data in at \u001b[39m\u001b[38;5;132;01m{\u001b[39;00m\u001b[38;5;28mself\u001b[39m\u001b[38;5;241m.\u001b[39mdata_path\u001b[38;5;132;01m}\u001b[39;00m\u001b[38;5;124m...\u001b[39m\u001b[38;5;124m'\u001b[39m)\n\u001b[1;32m--> 146\u001b[0m \u001b[38;5;28;01mwith\u001b[39;00m \u001b[38;5;28;43mopen\u001b[39;49m\u001b[43m(\u001b[49m\u001b[43mfile_path\u001b[49m\u001b[43m,\u001b[49m\u001b[43m \u001b[49m\u001b[38;5;124;43m\"\u001b[39;49m\u001b[38;5;124;43mrb\u001b[39;49m\u001b[38;5;124;43m\"\u001b[39;49m\u001b[43m)\u001b[49m \u001b[38;5;28;01mas\u001b[39;00m f:\n\u001b[0;32m    147\u001b[0m     \u001b[38;5;28;01mreturn\u001b[39;00m pickle\u001b[38;5;241m.\u001b[39mload(f)\n",
      "\u001b[1;31mFileNotFoundError\u001b[0m: [Errno 2] No such file or directory: \"C:\\\\Users\\\\peterdb1\\\\Documents\\\\Masters in ACM\\\\(i-j) 625.801-802 - ACM Master's Research\\\\Technical Work\\\\koopman-category-discovery\\\\data\\\\1-dimensional-systems\\\\dataset_10_class_100_noisy_samples.pkl\""
     ]
    }
   ],
   "source": [
    "num_cats = 10\n",
    "num_samples = 100\n",
    "system_dimension = 1\n",
    "delay_embeddings = 3\n",
    "num_segments = 5\n",
    "svd_rank = None\n",
    "dmd_rank = None\n",
    "q = 2\n",
    "num_clusters = 5\n",
    "test_size = 0.2\n",
    "codebook_training_size = 300\n",
    "category_discovery=False\n",
    "num_train_classes = 3\n",
    "seed = 42\n",
    "noisy_data=True\n",
    "normalize_inputs=True,\n",
    "\n",
    "KCM = KoopmanCategoryModel(num_cats=num_cats,\n",
    "                           num_samples=num_samples,\n",
    "                           system_dimension=system_dimension,\n",
    "                           delay_embeddings=delay_embeddings,\n",
    "                           num_segments=num_segments,\n",
    "                           svd_rank=svd_rank,\n",
    "                           dmd_rank=dmd_rank,\n",
    "                           q=q,\n",
    "                           cluster_method='kmeans',\n",
    "                           num_clusters=num_clusters,\n",
    "                           noisy_data=noisy_data,\n",
    "                           normalize_inputs=normalize_inputs,\n",
    "                           seed=seed)\n",
    "\n",
    "KCM.generate_data()\n",
    "KCM.train_test_split(test_size=test_size,\n",
    "                     codebook_training_size=codebook_training_size,\n",
    "                     category_discovery=category_discovery,\n",
    "                     num_train_classes=num_train_classes)\n",
    "KCM.create_codebook(include_plots=False)"
   ]
  },
  {
   "cell_type": "code",
   "execution_count": 3,
   "id": "2427310f-da33-4ede-b1c5-1cb42af3d881",
   "metadata": {},
   "outputs": [
    {
     "name": "stderr",
     "output_type": "stream",
     "text": [
      "Creating Phase Diagrams: 4it [00:43, 10.95s/it]\n"
     ]
    }
   ],
   "source": [
    "classifier = SVC(kernel='rbf', C=1, gamma='scale')\n",
    "KCM.perform_classification(classifier=classifier)\n",
    "KCM.create_phase_diagrams(inv_c_pred=True)\n",
    "KCM.save()\n",
    "KCM.shutdown_logger()"
   ]
  }
 ],
 "metadata": {
  "kernelspec": {
   "display_name": "Python 3 (ipykernel)",
   "language": "python",
   "name": "python3"
  },
  "language_info": {
   "codemirror_mode": {
    "name": "ipython",
    "version": 3
   },
   "file_extension": ".py",
   "mimetype": "text/x-python",
   "name": "python",
   "nbconvert_exporter": "python",
   "pygments_lexer": "ipython3",
   "version": "3.10.18"
  }
 },
 "nbformat": 4,
 "nbformat_minor": 5
}
