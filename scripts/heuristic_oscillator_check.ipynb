{
 "cells": [
  {
   "cell_type": "code",
   "execution_count": 1,
   "id": "16b76c3c-14eb-43ef-a45d-5495ba8860fa",
   "metadata": {},
   "outputs": [],
   "source": [
    "import numpy as np\n",
    "import pandas as pd\n",
    "from matplotlib import pyplot as plt\n",
    "import scipy\n",
    "from scipy.integrate import solve_ivp"
   ]
  },
  {
   "cell_type": "code",
   "execution_count": 2,
   "id": "176d7530-65b2-4635-acb2-97b6d3dbe08f",
   "metadata": {},
   "outputs": [],
   "source": [
    "def harmonic_oscillator(t, y, omega):\n",
    "    x, v = y\n",
    "    return np.array([v, -omega**2 * x])\n",
    "\n",
    "def damped_harmonic_oscillator(t, y, zeta, omega):\n",
    "    x, v = y\n",
    "    return [v, -2 * zeta * omega * v - omega**2 * x]\n",
    "\n",
    "def sm_damper_forcing(t, y, zeta, omega, gamma, alpha):\n",
    "    x, v = y\n",
    "    return [v, -2 * zeta * omega * v - omega**2 * x + gamma * np.cos(alpha * x)]\n",
    "\n",
    "def duffing_oscillator(t, y, zeta, omega, beta, gamma, alpha):\n",
    "    x, v = y\n",
    "    return [v, -2 * zeta * omega * v - omega**2 * x - beta * x**3 + gamma * np.cos(alpha * x)]\n",
    "\n",
    "def van_der_pol(t, y, mu):\n",
    "    x, v = y\n",
    "    return [v, mu * (1 - x**2) * v - x]"
   ]
  },
  {
   "cell_type": "code",
   "execution_count": 3,
   "id": "59e6092f-b09e-419e-8046-a84e8f8ae2d1",
   "metadata": {},
   "outputs": [],
   "source": [
    "def harmonic_params(rng):\n",
    "    return {'omega': rng.uniform(2, 6)}\n",
    "\n",
    "def under_damped_harmonic_params(rng):\n",
    "    return {'zeta': rng.uniform(0.02, 0.25),\n",
    "            'omega': rng.uniform(2, 6)}\n",
    "\n",
    "def spring_mass_forcing_params(rng):\n",
    "    return {'zeta': rng.uniform(0.02, 0.15),\n",
    "            'omega': rng.uniform(2, 6),\n",
    "            'gamma': rng.uniform(1, 3),\n",
    "            'alpha': rng.uniform(1, 3)}\n",
    "\n",
    "def duffing_params(rng):\n",
    "    return {'zeta' : rng.uniform(0.02, 0.15),\n",
    "            'omega': rng.uniform(1, 3),\n",
    "            'beta' : rng.uniform(0.5, 1.5),\n",
    "            'gamma': rng.uniform(0.5, 1.5),\n",
    "            'alpha': rng.uniform(1, 3)}\n",
    "\n",
    "def vdp_params(rng):\n",
    "    return {'mu': rng.uniform(0.5, 2)}"
   ]
  },
  {
   "cell_type": "code",
   "execution_count": 4,
   "id": "c50755fe-a462-4627-9438-3cf9921f7507",
   "metadata": {},
   "outputs": [],
   "source": [
    "harm_d = 2\n",
    "damped_harm_d = 2\n",
    "sm_damp_d = 2\n",
    "duffing_d = 2\n",
    "van_der_pol_d = 2"
   ]
  },
  {
   "cell_type": "code",
   "execution_count": 12,
   "id": "3a957e0b-bd58-406b-bd16-b9dc196b678e",
   "metadata": {},
   "outputs": [],
   "source": [
    "systems = {\n",
    "    'harmonic_oscillator' : (harmonic_oscillator, harmonic_params, harm_d),\n",
    "    'under_damped_harmonic_oscillator' : (damped_harmonic_oscillator, under_damped_harmonic_params, damped_harm_d),\n",
    "    'spring_mass_with_forcing' : (sm_damper_forcing, spring_mass_forcing_params, sm_damp_d),\n",
    "    'duffing_oscillator' : (duffing_oscillator, duffing_params, duffing_d),\n",
    "    'van_der_pol_oscillator' : (van_der_pol, vdp_params, van_der_pol_d)\n",
    "          }"
   ]
  },
  {
   "cell_type": "code",
   "execution_count": 13,
   "id": "41737131-e5c8-4a73-921f-96c0a2f5d781",
   "metadata": {},
   "outputs": [
    {
     "data": {
      "text/plain": [
       "{'omega': 5.095824194223853}"
      ]
     },
     "execution_count": 13,
     "metadata": {},
     "output_type": "execute_result"
    }
   ],
   "source": [
    "seed = 42\n",
    "rng = np.random.default_rng(seed)\n",
    "harmonic_params(rng)"
   ]
  },
  {
   "cell_type": "code",
   "execution_count": 30,
   "id": "0294bca2-051d-403e-a337-c55fda51cc23",
   "metadata": {},
   "outputs": [
    {
     "data": {
      "image/png": "[encoded data removed]",
      "text/plain": [
       "<Figure size 1600x200 with 1 Axes>"
      ]
     },
     "metadata": {},
     "output_type": "display_data"
    }
   ],
   "source": [
    "start = 1\n",
    "end = 10\n",
    "n = 1000\n",
    "system = 'harmonic_oscillator'\n",
    "# harmonic_oscillator, under_damped_harmonic_oscillator\n",
    "# spring_mass_with_forcing, duffing_oscillator, van_der_pol_oscillator\n",
    "\n",
    "t_eval = np.linspace(start,end,n)\n",
    "y0 = [np.random.uniform(-5,5), np.random.uniform(-5,5)]\n",
    "\n",
    "params = {'omega': 1.0}\n",
    "\n",
    "ode = systems[system][0]\n",
    "def wrapped_ode(t,y): return ode(t,y,**params)\n",
    "sol = solve_ivp(wrapped_ode, [start,end], y0, t_eval=t_eval)\n",
    "\n",
    "plt.figure(figsize=(16,2))\n",
    "for i in range(2):\n",
    "    x = sol.t\n",
    "    y = sol.y[0,:]\n",
    "    plt.plot(x,y)\n",
    "\n",
    "plt.title(system)\n",
    "plt.legend(['x','v'])\n",
    "plt.show()"
   ]
  }
 ],
 "metadata": {
  "kernelspec": {
   "display_name": "Python 3 (ipykernel)",
   "language": "python",
   "name": "python3"
  },
  "language_info": {
   "codemirror_mode": {
    "name": "ipython",
    "version": 3
   },
   "file_extension": ".py",
   "mimetype": "text/x-python",
   "name": "python",
   "nbconvert_exporter": "python",
   "pygments_lexer": "ipython3",
   "version": "3.10.18"
  }
 },
 "nbformat": 4,
 "nbformat_minor": 5
}
