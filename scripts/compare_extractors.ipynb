{
 "cells": [
  {
   "cell_type": "markdown",
   "id": "d24ee5fa-8f16-4c6c-a501-added1a415d2",
   "metadata": {},
   "source": [
    "### Compare Extractors"
   ]
  },
  {
   "cell_type": "code",
   "execution_count": 1,
   "id": "4579ec6a-1a48-4d53-9291-9280b509c7fe",
   "metadata": {},
   "outputs": [],
   "source": [
    "%load_ext autoreload\n",
    "%autoreload 2\n",
    "\n",
    "import numpy as np\n",
    "import pandas as pd\n",
    "from matplotlib import pyplot as plt\n",
    "import pickle\n",
    "import torch\n",
    "from tqdm import tqdm\n",
    "\n",
    "from sklearn.svm import SVC\n",
    "from sklearn.model_selection import train_test_split\n",
    "from sklearn.metrics import confusion_matrix\n",
    "from sklearn.linear_model import LogisticRegression\n",
    "from sklearn.metrics import adjusted_rand_score, normalized_mutual_info_score, adjusted_mutual_info_score\n",
    "from scipy.stats import wasserstein_distance\n",
    "\n",
    "from pathlib import Path\n",
    "import os\n",
    "from datetime import datetime\n",
    "import uuid\n",
    "import json\n",
    "import shutil\n",
    "\n",
    "from kcm.koopman_category_model import KoopmanCategoryModel\n",
    "from kcm.basic_feature_extract import BasicFeatureExtractor\n",
    "from kcm.discovery import (\n",
    "    CategoryDiscoveryTrainer,\n",
    "    train_test_split_indices,\n",
    "    prep_data_for_discovery,\n",
    "    check_histograms,\n",
    "    sup_con_loss,\n",
    "    BaselineModel,\n",
    "    HASHHead,\n",
    "    cluster_acc,\n",
    "    split_cluster_acc_v1,\n",
    "    split_cluster_acc_v2,\n",
    "    create_hash_ids\n",
    ")\n",
    "\n",
    "# import warnings\n",
    "# warnings.filterwarnings('ignore')\n",
    "\n",
    "\n",
    "plt.style.use('dark_background')"
   ]
  },
  {
   "cell_type": "code",
   "execution_count": 2,
   "id": "6c966080-0023-4f3e-b351-61f850e5c8d7",
   "metadata": {},
   "outputs": [],
   "source": [
    "# Reproducibility Code\n",
    "seed=42\n",
    "rng = np.random.default_rng(seed)"
   ]
  },
  {
   "cell_type": "code",
   "execution_count": 3,
   "id": "5a83ae61-b608-457a-96cd-0524f52bb24b",
   "metadata": {},
   "outputs": [
    {
     "name": "stdout",
     "output_type": "stream",
     "text": [
      "Category Discovery Split...\n",
      "    Training Size: 240\n",
      "    Testing Size: 160\n"
     ]
    }
   ],
   "source": [
    "############### Shared Inputs ###############\n",
    "num_cats = 4 # 10\n",
    "num_samples = 100 # 500\n",
    "system_dimension = 2\n",
    "test_size = 0.2\n",
    "category_discovery=True\n",
    "train_classes = [1,2,3] # range(3) # range(7)\n",
    "noisy_data=False\n",
    "noise_std=0.01\n",
    "samples_name = f'noisy_{noise_std}_samples' if noisy_data else 'samples'\n",
    "data_path = (rf\"C:\\Users\\peterdb1\\Documents\\Masters in ACM\\(i-j) 625.801-802 - ACM Master's Research\\Technical Work\\koopman-category-discovery\\data\",\n",
    "                f\"{system_dimension}-dimensional-systems\",\n",
    "                f\"dataset_{num_cats}_class_{num_samples}_{samples_name}.pkl\"\n",
    "            )\n",
    "data_path = os.path.join(*data_path)\n",
    "#############################################\n",
    "\n",
    "\n",
    "############ kcm-specific inputs ############\n",
    "delay_embeddings = 3\n",
    "num_segments = 8 # 30\n",
    "svd_rank = None\n",
    "dmd_rank = None\n",
    "q = 1\n",
    "num_clusters = 5 # 20\n",
    "codebook_training_size = 120 # 490 # divides <num training classes>\n",
    "normalize_kcm_inputs=True\n",
    "soft_clustering=True\n",
    "tau = 1.0\n",
    "#############################################\n",
    "\n",
    "\n",
    "###### basic extractor-specific inputs ######\n",
    "drop_na=True\n",
    "normalize_basic_inputs=False\n",
    "#############################################\n",
    "\n",
    "train_counts, test_counts = train_test_split_indices(num_cats,num_samples,test_size,train_classes,category_discovery,rng)"
   ]
  },
  {
   "cell_type": "markdown",
   "id": "19932af4-7379-4e9e-b572-5735e9e8c5cb",
   "metadata": {},
   "source": [
    "### Prepare Data"
   ]
  },
  {
   "cell_type": "code",
   "execution_count": 4,
   "id": "658deabd-5cbd-4a76-8259-195bdb091b2e",
   "metadata": {},
   "outputs": [
    {
     "name": "stdout",
     "output_type": "stream",
     "text": [
      "Loading data in at C:\\Users\\peterdb1\\Documents\\Masters in ACM\\(i-j) 625.801-802 - ACM Master's Research\\Technical Work\\koopman-category-discovery\\data\\2-dimensional-systems\\dataset_4_class_100_samples.pkl...\n",
      "Generating 3200 DMD eigs/modes each with dimensionality 8\n"
     ]
    },
    {
     "name": "stderr",
     "output_type": "stream",
     "text": [
      "harmonic_oscillator system: 100%|███████████████████████████████████████████████████████████████████████████| 100/100 [00:00<00:00, 204.65it/s]\n",
      "spring_mass_with_forcing system: 100%|██████████████████████████████████████████████████████████████████████| 100/100 [00:00<00:00, 219.28it/s]\n",
      "duffing_oscillator system: 100%|████████████████████████████████████████████████████████████████████████████| 100/100 [00:00<00:00, 237.55it/s]\n",
      "van_der_pol_oscillator system: 100%|████████████████████████████████████████████████████████████████████████| 100/100 [00:00<00:00, 234.21it/s]\n",
      "Formatting DMD data: 100%|███████████████████████████████████████████████████████████████████████████████| 3200/3200 [00:00<00:00, 4000.26it/s]\n"
     ]
    }
   ],
   "source": [
    "KCM = KoopmanCategoryModel(num_cats=num_cats,\n",
    "                           num_samples=num_samples,\n",
    "                           system_dimension=system_dimension,\n",
    "                           delay_embeddings=delay_embeddings,\n",
    "                           num_segments=num_segments,\n",
    "                           svd_rank=svd_rank,\n",
    "                           dmd_rank=dmd_rank,\n",
    "                           q=q,\n",
    "                           data_path=data_path,\n",
    "                           cluster_method='kmeans',\n",
    "                           num_clusters=num_clusters,\n",
    "                           noisy_data=noisy_data,\n",
    "                           noise_std=noise_std,\n",
    "                           normalize_inputs=normalize_kcm_inputs,\n",
    "                           train_classes=train_classes,\n",
    "                           soft_clustering=soft_clustering,\n",
    "                           tau=tau,\n",
    "                           seed=seed)\n",
    "\n",
    "KCM.train_counts = train_counts\n",
    "KCM.test_counts = test_counts\n",
    "KCM.generate_data()\n",
    "\n",
    "kcm = KCM.df\n",
    "kcm_train_data = kcm.loc[kcm['count'].isin(train_counts)].reset_index(drop=True)\n",
    "kcm_test_data = kcm.loc[kcm['count'].isin(test_counts)].reset_index(drop=True)\n",
    "\n",
    "KCM.df_train = kcm_train_data\n",
    "KCM.df_test = kcm_test_data\n",
    "\n",
    "assert int(kcm_train_data.shape[0]/num_segments) == len(train_counts), 'training samples not correct shape'\n",
    "assert int(kcm_test_data.shape[0]/num_segments) == len(test_counts), 'testing samples not correct shape'"
   ]
  },
  {
   "cell_type": "code",
   "execution_count": 5,
   "id": "00e123e8-4233-4cd5-8894-105ab239b220",
   "metadata": {},
   "outputs": [
    {
     "name": "stdout",
     "output_type": "stream",
     "text": [
      "Creating df_sample for codebook\n"
     ]
    },
    {
     "name": "stderr",
     "output_type": "stream",
     "text": [
      "(1/2) * 120^2 = 7200 Wasserstein distance metrics:  99%|█████████████████████████████████████████████████▌| 7140/7200 [00:17<00:00, 409.70it/s]\n",
      "5 * 1920 = 9600 Wasserstein distance metrics: 100%|███████████████████████████████████████████████████████| 9600/9600 [00:20<00:00, 462.61it/s]\n",
      "5 * 1280 = 6400 Wasserstein distance metrics: 100%|███████████████████████████████████████████████████████| 6400/6400 [00:13<00:00, 463.34it/s]\n"
     ]
    }
   ],
   "source": [
    "KCM.create_codebook(codebook_training_size=codebook_training_size,\n",
    "                    category_discovery=category_discovery,\n",
    "                    include_plots=True)\n",
    "\n",
    "KCM.create_feature_outputs()\n",
    "\n",
    "KCM.save()\n",
    "KCM.shutdown_logger()"
   ]
  },
  {
   "cell_type": "code",
   "execution_count": 10,
   "id": "df74ce77-3cde-4b7b-8076-d6ac3a13c666",
   "metadata": {},
   "outputs": [
    {
     "name": "stdout",
     "output_type": "stream",
     "text": [
      "KCM_20250811_225835_b382058c\n"
     ]
    }
   ],
   "source": [
    "print(KCM.run_dir.stem)"
   ]
  },
  {
   "cell_type": "code",
   "execution_count": 7,
   "id": "531e5c17-02d6-47f0-805a-b0fafcb27dd9",
   "metadata": {},
   "outputs": [],
   "source": [
    "def load_koopman_model(run_dir):\n",
    "    model_path = Path(run_dir) / \"koopman_model.pkl\"\n",
    "    params_path = Path(run_dir) / \"params.json\"\n",
    "    \n",
    "    model = KoopmanCategoryModel.load(model_path)\n",
    "    with open(params_path, \"r\") as f:\n",
    "        params = json.load(f)\n",
    "    \n",
    "    return model, params"
   ]
  },
  {
   "cell_type": "code",
   "execution_count": 35,
   "id": "a491dc90-fc24-499d-986b-258132c4b191",
   "metadata": {},
   "outputs": [],
   "source": [
    "run_dir = r\"C:\\Users\\peterdb1\\Documents\\Masters in ACM\\(i-j) 625.801-802 - ACM Master's Research\\Technical Work\\koopman-category-discovery\\experiments\\KCM_20250811_192934_79d7f879\"\n",
    "KCM, params = load_koopman_model(run_dir)\n",
    "for par in params:\n",
    "    print(par)"
   ]
  },
  {
   "cell_type": "code",
   "execution_count": null,
   "id": "e11e6d1c-f37e-4cc2-bf60-1598f3b2ec97",
   "metadata": {},
   "outputs": [],
   "source": [
    "# train test split\n",
    "kcm_X_train, kcm_X_test, kcm_y_train, kcm_y_test, kcm_stacked = prep_data_for_discovery(train=KCM.kcm_train,\n",
    "                                                                                        test=KCM.kcm_test,\n",
    "                                                                                        normalize_final_data=False, # already normalized within kcm.create_codebook()\n",
    "                                                                                        pca_reduction=False,\n",
    "                                                                                        n_components=None,\n",
    "                                                                                        feat_extractor='kcm')"
   ]
  },
  {
   "cell_type": "code",
   "execution_count": null,
   "id": "28f24301-7756-4385-b998-ac9110dcfc13",
   "metadata": {},
   "outputs": [],
   "source": [
    "Extractor = BasicFeatureExtractor(num_cats=KCM.num_cats,\n",
    "                                  num_samples=KCM.num_samples,\n",
    "                                  system_dimension=KCM.system_dimension,\n",
    "                                  data_path=KCM.data_path,\n",
    "                                  noisy_data=KCM.noisy_data,\n",
    "                                  noise_std=KCM.noise_std,\n",
    "                                  seed=KCM.seed)\n",
    "\n",
    "Extractor.batch_extract_features(normalize_inputs=normalize_basic_inputs, drop_na=drop_na)\n",
    "\n",
    "basic = Extractor.df\n",
    "basic_train = basic.loc[basic['count'].isin(train_counts)]\n",
    "basic_test = basic.loc[basic['count'].isin(test_counts)]\n",
    "\n",
    "# train test split\n",
    "basic_X_train, basic_X_test, basic_y_train, basic_y_test, basic_stacked = prep_data_for_discovery(train=basic_train,\n",
    "                                                                                                  test=basic_test,\n",
    "                                                                                                  normalize_final_data=True,\n",
    "                                                                                                  pca_reduction=True,\n",
    "                                                                                                  n_components=KCM.num_clusters, # make kcm and basic extract have same feature dimension\n",
    "                                                                                                  feat_extractor='basic')"
   ]
  },
  {
   "cell_type": "code",
   "execution_count": null,
   "id": "08098741-7628-463b-a84d-bad7cc13d012",
   "metadata": {},
   "outputs": [],
   "source": [
    "check_histograms(basic_stacked), print('')\n",
    "check_histograms(kcm_stacked)"
   ]
  },
  {
   "cell_type": "code",
   "execution_count": null,
   "id": "e2cd84fe-501f-406d-88b2-d490ffd356d1",
   "metadata": {},
   "outputs": [],
   "source": [
    "# Comparing system-target mappings for basic extractor and kcm\n",
    "mapping = basic[['system_name','target']].drop_duplicates().values\n",
    "basic_system_dict = {row[1] : row[0] for row in mapping}\n",
    "kcm_system_dict = {tgt : cat for cat,tgt in zip(KCM.cats,KCM.df['target'].drop_duplicates())}\n",
    "assert basic_system_dict == kcm_system_dict, 'Dictionaries do not match between extractors'\n",
    "\n",
    "assert (basic.target.values == KCM.df[['target','sample']].drop_duplicates()['target'].values).all()\n",
    "assert (basic_train.target.values == KCM.df_train[['target','sample']].drop_duplicates()['target'].values).all()\n",
    "assert (basic_test.target.values == KCM.df_test[['target','sample']].drop_duplicates()['target'].values).all()"
   ]
  },
  {
   "cell_type": "code",
   "execution_count": null,
   "id": "ef6e448b-912f-4217-b08b-7e42a15c7232",
   "metadata": {},
   "outputs": [],
   "source": [
    "def create_discovery_run_dir(base_dir=\"experiments\", tag=\"discovery_run\"):\n",
    "    ts = datetime.now().strftime(\"%Y%m%d_%H%M%S\")\n",
    "    uid = uuid.uuid4().hex[:8]\n",
    "    run_dir = Path(base_dir) / f\"{tag}_{ts}_{uid}\"\n",
    "    (run_dir / \"plots\").mkdir(parents=True)\n",
    "    (run_dir / \"results\").mkdir()\n",
    "    (run_dir / \"logs\").mkdir()\n",
    "    print(f\"Created discovery run directory: {run_dir}\")\n",
    "    return run_dir"
   ]
  },
  {
   "cell_type": "code",
   "execution_count": null,
   "id": "2d2424a0-56f5-4ea9-b380-778e5b656dd3",
   "metadata": {},
   "outputs": [],
   "source": [
    "def save_discovery_params(params, run_dir):\n",
    "    path = Path(run_dir) / \"discovery_params.json\"\n",
    "    with open(path, \"w\") as f:\n",
    "        json.dump(params, f, indent=2)\n",
    "    print(f\"Saved discovery parameters to {path}\")"
   ]
  },
  {
   "cell_type": "code",
   "execution_count": null,
   "id": "5a3b9d0e-c9af-4388-aa89-df61dd3b7330",
   "metadata": {},
   "outputs": [],
   "source": [
    "params = {\n",
    "    \"codebook_training_size\": 280,\n",
    "    \"num_clusters\": 20,\n",
    "    \"use_soft_clustering\": True,\n",
    "    \"tau\": 0.5,\n",
    "    \"train_classes\": [0, 1, 2, 3, 4, 5, 6],\n",
    "    \"koopman_model_dir\": \"experiments/koopman_run_20240810_1a2b3c\"\n",
    "}\n",
    "save_discovery_params(params, run_dir)"
   ]
  },
  {
   "cell_type": "code",
   "execution_count": null,
   "id": "fee3513a-8210-4528-8fe6-466abc7ebe70",
   "metadata": {},
   "outputs": [],
   "source": [
    "# 1. Set up discovery run\n",
    "discovery_run_dir = create_discovery_run_dir()\n",
    "save_discovery_params(params, discovery_run_dir)\n",
    "\n",
    "# 2. Load Koopman model\n",
    "KCM, KCM_params = load_koopman_model(params[\"koopman_model_dir\"])\n",
    "\n",
    "# 3. Run category discovery\n",
    "KCM.create_codebook(\n",
    "    codebook_training_size=params[\"codebook_training_size\"],\n",
    "    category_discovery=True,\n",
    "    train_classes=params[\"train_classes\"],\n",
    "    include_plots=True  # save plots later\n",
    ")\n",
    "\n",
    "# 4. Save results\n",
    "save_artifact(KCM.codebook, discovery_run_dir, \"codebook\")\n",
    "save_artifact(KCM.df_test, discovery_run_dir, \"df_test\")\n"
   ]
  },
  {
   "cell_type": "code",
   "execution_count": null,
   "id": "65ad759b-a65c-420f-98cb-54e6d57f6b32",
   "metadata": {},
   "outputs": [],
   "source": [
    "############## Training Parameters ##############\n",
    "input_dim = num_clusters\n",
    "output_dim = 6\n",
    "hidden_dims = [200,200] # [200, 200], [1024, 512, 256]\n",
    "dropout = 0.3\n",
    "classes = num_cats\n",
    "epochs = 500\n",
    "model_type = 'SMILE' # baseline, SMILE\n",
    "temperature = 0.2\n",
    "#################################################\n",
    "\n",
    "kcm_trainer = CategoryDiscoveryTrainer(input_dim=input_dim,\n",
    "                                       output_dim=output_dim,\n",
    "                                       hidden_dims=hidden_dims,\n",
    "                                       dropout=dropout,\n",
    "                                       classes=classes,\n",
    "                                       epochs=epochs,\n",
    "                                       model_type=model_type,\n",
    "                                       temperature=temperature)\n",
    "\n",
    "basic_trainer = CategoryDiscoveryTrainer(input_dim=input_dim,\n",
    "                                         output_dim=output_dim,\n",
    "                                         hidden_dims=hidden_dims,\n",
    "                                         dropout=dropout,\n",
    "                                         classes=classes,\n",
    "                                         epochs=epochs,\n",
    "                                         model_type=model_type,\n",
    "                                         temperature=temperature)"
   ]
  },
  {
   "cell_type": "code",
   "execution_count": null,
   "id": "b4746b9d-5694-47c8-b125-a225e60ddff0",
   "metadata": {},
   "outputs": [],
   "source": [
    "kcm_trainer.train_model(kcm_X_train, kcm_X_test, kcm_y_train, kcm_y_test)"
   ]
  },
  {
   "cell_type": "code",
   "execution_count": null,
   "id": "6b987cdf-bcd6-4287-ad7d-8aba660abc13",
   "metadata": {},
   "outputs": [],
   "source": [
    "basic_trainer.train_model(basic_X_train, basic_X_test, basic_y_train, basic_y_test)"
   ]
  },
  {
   "cell_type": "code",
   "execution_count": null,
   "id": "aea68a45-9a5d-40e0-aab5-a7c6af6f366b",
   "metadata": {},
   "outputs": [],
   "source": [
    "kcm_trainer.plot_loss(log=True)\n",
    "basic_trainer.plot_loss(log=True)"
   ]
  },
  {
   "cell_type": "code",
   "execution_count": null,
   "id": "36a09e9f-c991-4abc-bd94-a291aef8a170",
   "metadata": {},
   "outputs": [],
   "source": [
    "kcm_trainer.plot_unique_hash_count()\n",
    "basic_trainer.plot_unique_hash_count()"
   ]
  },
  {
   "cell_type": "code",
   "execution_count": null,
   "id": "9b31b98b-5043-444e-8570-c653d294b268",
   "metadata": {},
   "outputs": [],
   "source": [
    "kcm_trainer.plot_scores()\n",
    "basic_trainer.plot_scores()"
   ]
  },
  {
   "cell_type": "code",
   "execution_count": null,
   "id": "f752dc95-f3d6-47be-a203-f447076d9526",
   "metadata": {},
   "outputs": [],
   "source": [
    "kcm_trainer.plot_hashes(index=-1,split_testing=False)\n",
    "basic_trainer.plot_hashes(index=-1,split_testing=False)"
   ]
  }
 ],
 "metadata": {
  "kernelspec": {
   "display_name": "Python 3 (ipykernel)",
   "language": "python",
   "name": "python3"
  },
  "language_info": {
   "codemirror_mode": {
    "name": "ipython",
    "version": 3
   },
   "file_extension": ".py",
   "mimetype": "text/x-python",
   "name": "python",
   "nbconvert_exporter": "python",
   "pygments_lexer": "ipython3",
   "version": "3.10.18"
  }
 },
 "nbformat": 4,
 "nbformat_minor": 5
}
