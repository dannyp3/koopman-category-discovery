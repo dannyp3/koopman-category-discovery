{
 "cells": [
  {
   "cell_type": "markdown",
   "id": "359715b6-b2ad-4333-82fb-34e6b394c98a",
   "metadata": {},
   "source": [
    "### Create High DImensional DYnamical Systems"
   ]
  },
  {
   "cell_type": "code",
   "execution_count": 1,
   "id": "b8b43731-5e5b-426d-bea5-bdfcb2d8c2b4",
   "metadata": {},
   "outputs": [],
   "source": [
    "%load_ext autoreload\n",
    "%autoreload 2\n",
    "    \n",
    "import numpy as np\n",
    "import pandas as pd\n",
    "from matplotlib import pyplot as plt\n",
    "import scipy\n",
    "import pickle\n",
    "from pathlib import Path\n",
    "from tqdm import tqdm\n",
    "\n",
    "from kcm.dynamical_systems import create_three_dimensional_dataset\n",
    "from kcm.dynamical_systems import (\n",
    "    lorenz, lorenz_params,\n",
    "    rossler,rossler_params,\n",
    "    chen,chen_params,\n",
    "    chua,chua_params,\n",
    "    halvorsen,halvorsen_params,\n",
    "    sprott_a,sprott_a_params,\n",
    "    tigan,tigan_params,\n",
    "    cross_coupled,cross_coupled_params,\n",
    "    plot_3d_time_colored_trajectories\n",
    ")\n",
    "\n",
    "\n",
    "\n",
    "plt.style.use('dark_background')"
   ]
  },
  {
   "cell_type": "code",
   "execution_count": 2,
   "id": "a4296af1-2715-4489-89c1-47f1b930b007",
   "metadata": {},
   "outputs": [
    {
     "data": {
      "text/plain": [
       "{'seed': 42, 'scipy_version': '1.15.3', 'numpy_version': '2.2.6'}"
      ]
     },
     "execution_count": 2,
     "metadata": {},
     "output_type": "execute_result"
    }
   ],
   "source": [
    "header = {\n",
    "    \"seed\": 42,\n",
    "    \"scipy_version\": scipy.__version__,\n",
    "    \"numpy_version\": np.__version__,\n",
    "}\n",
    "header"
   ]
  },
  {
   "cell_type": "code",
   "execution_count": 3,
   "id": "fa43241d-7133-420a-a1f4-86437ab49277",
   "metadata": {},
   "outputs": [],
   "source": [
    "systems = {\n",
    "    'lorenz' : (lorenz, lorenz_params),\n",
    "    'rossler' : (rossler,rossler_params),\n",
    "    'chen' : (chen,chen_params),\n",
    "    # 'chua' : (chua,chua_params),\n",
    "    'halvorsen' : (halvorsen,halvorsen_params),\n",
    "    'sprott_a' : (sprott_a,sprott_a_params),\n",
    "    'tigan' : (tigan,tigan_params),\n",
    "    'cross_coupled' : (cross_coupled,cross_coupled_params)\n",
    "}"
   ]
  },
  {
   "cell_type": "code",
   "execution_count": 4,
   "id": "a50173a9-0bf9-4ef1-9b42-3e17a88b70bb",
   "metadata": {},
   "outputs": [
    {
     "name": "stderr",
     "output_type": "stream",
     "text": [
      "lorenz: 100%|████████████████████████████████████████████████████████████████████████| 500/500 [03:10<00:00,  2.62it/s]\n",
      "rossler: 100%|███████████████████████████████████████████████████████████████████████| 500/500 [02:13<00:00,  3.74it/s]\n",
      "chen: 100%|██████████████████████████████████████████████████████████████████████████| 500/500 [04:16<00:00,  1.95it/s]\n",
      "halvorsen: 100%|█████████████████████████████████████████████████████████████████████| 500/500 [02:51<00:00,  2.92it/s]\n",
      "sprott_a: 100%|██████████████████████████████████████████████████████████████████████| 500/500 [01:28<00:00,  5.64it/s]\n",
      "tigan: 100%|█████████████████████████████████████████████████████████████████████████| 500/500 [07:02<00:00,  1.18it/s]\n",
      "cross_coupled: 100%|█████████████████████████████████████████████████████████████████| 500/500 [01:21<00:00,  6.16it/s]\n"
     ]
    }
   ],
   "source": [
    "n = 5000\n",
    "begin = 0\n",
    "end = 50\n",
    "num_series = 500\n",
    "noise_multiplier = 0.01\n",
    "seed = header['seed']\n",
    "\n",
    "dataset = create_three_dimensional_dataset(n,systems,begin,end,num_series,noise_multiplier,seed=seed)"
   ]
  },
  {
   "cell_type": "code",
   "execution_count": 7,
   "id": "216d3dfb-98f5-4e5a-b782-f3e6bd4e3031",
   "metadata": {},
   "outputs": [
    {
     "name": "stdout",
     "output_type": "stream",
     "text": [
      "Saving dataset...\n"
     ]
    }
   ],
   "source": [
    "save_dataset = False\n",
    "\n",
    "if save_dataset:\n",
    "    print('Saving dataset...')\n",
    "    sample_name = f'noisy_{noise_multiplier}_samples' if noise_multiplier > 0 else 'samples'\n",
    "    path = Path().resolve().parents[0] / 'data' / '3-dimensional-systems' / f\"dataset_{len(systems)}_class_{num_series}_{sample_name}.pkl\"\n",
    "    \n",
    "    with open(path, 'wb') as f:\n",
    "        pickle.dump(dataset, f)\n",
    "\n",
    "else:\n",
    "    print('Not saving dataset')"
   ]
  },
  {
   "cell_type": "code",
   "execution_count": null,
   "id": "cf8c9424-dd76-4433-8485-5420d81b1f85",
   "metadata": {},
   "outputs": [],
   "source": [
    "plot_3d_time_colored_trajectories(dataset, n_examples=3)"
   ]
  },
  {
   "cell_type": "code",
   "execution_count": null,
   "id": "6c3019f2-a742-43e3-b645-863f63605345",
   "metadata": {},
   "outputs": [],
   "source": [
    "n_examples = 3\n",
    "for key in dataset.keys():\n",
    "\n",
    "    curr_data = dataset[key]\n",
    "    \n",
    "    fig, ax = plt.subplots(n_examples,1,figsize=(16,n_examples*1.3))\n",
    "    for i in range(n_examples):\n",
    "        t = curr_data[i]['t']\n",
    "        x, y, z = curr_data[i]['y']\n",
    "        ax[i].plot(t,x,linewidth=1)\n",
    "        ax[i].plot(t,y,linewidth=1)\n",
    "        ax[i].plot(t,z,linewidth=1)\n",
    "        ax[i].legend(['x','y','z'])\n",
    "\n",
    "    plt.suptitle(f'{key.capitalize()} System')\n",
    "    plt.show()"
   ]
  }
 ],
 "metadata": {
  "kernelspec": {
   "display_name": "Python 3 (ipykernel)",
   "language": "python",
   "name": "python3"
  },
  "language_info": {
   "codemirror_mode": {
    "name": "ipython",
    "version": 3
   },
   "file_extension": ".py",
   "mimetype": "text/x-python",
   "name": "python",
   "nbconvert_exporter": "python",
   "pygments_lexer": "ipython3",
   "version": "3.10.18"
  }
 },
 "nbformat": 4,
 "nbformat_minor": 5
}
