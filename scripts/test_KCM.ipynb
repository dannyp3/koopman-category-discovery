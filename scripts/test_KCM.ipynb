{
 "cells": [
  {
   "cell_type": "markdown",
   "id": "03122fe6-3949-4a9a-90f4-024ae532d7f5",
   "metadata": {},
   "source": [
    "## Testing KCM Class"
   ]
  },
  {
   "cell_type": "code",
   "execution_count": 1,
   "id": "87b35c98-3c42-4e04-be3a-ffea1a2f94f8",
   "metadata": {},
   "outputs": [],
   "source": [
    "%load_ext autoreload\n",
    "%autoreload 2\n",
    "\n",
    "from sklearn.svm import SVC\n",
    "# from kcm import KoopmanCategoryModel, plot_confusion\n",
    "from kcm.koopman_category_model import KoopmanCategoryModel\n",
    "\n",
    "import warnings\n",
    "warnings.filterwarnings('ignore')"
   ]
  },
  {
   "cell_type": "code",
   "execution_count": 2,
   "id": "5d86d047-7452-4be0-b042-f71aae70cd5f",
   "metadata": {},
   "outputs": [
    {
     "name": "stderr",
     "output_type": "stream",
     "text": [
      "(1/2) * 300^2 = 45000 Wasserstein distance metrics: 100%|████████████████████████████████████████████████████| 300/300 [06:56<00:00,  1.39s/it]\n",
      "5 * 1600 = 8000 Wasserstein distance metrics: 100%|██████████████████████████████████████████████████████████████| 5/5 [01:24<00:00, 16.89s/it]\n",
      "5 * 400 = 2000 Wasserstein distance metrics: 100%|███████████████████████████████████████████████████████████████| 5/5 [00:19<00:00,  3.94s/it]\n"
     ]
    }
   ],
   "source": [
    "num_cats = 4\n",
    "num_samples = 100\n",
    "system_dimension = 1\n",
    "delay_embeddings = 10 # 3\n",
    "num_segments = 5\n",
    "svd_rank = None\n",
    "dmd_rank = None\n",
    "q = 2\n",
    "num_clusters = 5\n",
    "test_size = 0.2\n",
    "codebook_training_size = 300\n",
    "\n",
    "KCM = KoopmanCategoryModel(num_cats=num_cats,\n",
    "                           num_samples=num_samples,\n",
    "                           system_dimension=system_dimension,\n",
    "                           delay_embeddings=delay_embeddings,\n",
    "                           num_segments=num_segments,\n",
    "                           svd_rank=svd_rank,\n",
    "                           dmd_rank=dmd_rank,\n",
    "                           q=q,\n",
    "                           cluster_method='kmeans',\n",
    "                           num_clusters=num_clusters)\n",
    "\n",
    "KCM.generate_data()\n",
    "KCM.train_test_split(test_size=test_size,\n",
    "                     codebook_training_size=codebook_training_size)\n",
    "KCM.create_codebook(include_plots=False)"
   ]
  },
  {
   "cell_type": "code",
   "execution_count": 3,
   "id": "2427310f-da33-4ede-b1c5-1cb42af3d881",
   "metadata": {},
   "outputs": [
    {
     "name": "stderr",
     "output_type": "stream",
     "text": [
      "Creating Phase Diagrams: 4it [01:04, 16.14s/it]\n"
     ]
    }
   ],
   "source": [
    "classifier = SVC(kernel='rbf', C=1, gamma='scale')\n",
    "KCM.perform_classification(classifier=classifier)\n",
    "KCM.create_phase_diagrams(inv_c_pred=True)\n",
    "KCM.save()\n",
    "KCM.shutdown_logger()"
   ]
  }
 ],
 "metadata": {
  "kernelspec": {
   "display_name": "Python 3 (ipykernel)",
   "language": "python",
   "name": "python3"
  },
  "language_info": {
   "codemirror_mode": {
    "name": "ipython",
    "version": 3
   },
   "file_extension": ".py",
   "mimetype": "text/x-python",
   "name": "python",
   "nbconvert_exporter": "python",
   "pygments_lexer": "ipython3",
   "version": "3.10.18"
  }
 },
 "nbformat": 4,
 "nbformat_minor": 5
}
