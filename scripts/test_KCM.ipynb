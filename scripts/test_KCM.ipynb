{
 "cells": [
  {
   "cell_type": "markdown",
   "id": "03122fe6-3949-4a9a-90f4-024ae532d7f5",
   "metadata": {},
   "source": [
    "## Testing KCM Class"
   ]
  },
  {
   "cell_type": "code",
   "execution_count": null,
   "id": "87b35c98-3c42-4e04-be3a-ffea1a2f94f8",
   "metadata": {},
   "outputs": [],
   "source": [
    "%load_ext autoreload\n",
    "%autoreload 2\n",
    "\n",
    "from sklearn.svm import SVC\n",
    "from kcm.koopman_category_model import KoopmanCategoryModel\n",
    "\n",
    "import warnings\n",
    "warnings.filterwarnings('ignore')"
   ]
  },
  {
   "cell_type": "code",
   "execution_count": 2,
   "id": "5d86d047-7452-4be0-b042-f71aae70cd5f",
   "metadata": {},
   "outputs": [
    {
     "name": "stderr",
     "output_type": "stream",
     "text": [
      "C:\\Users\\peterdb1\\Documents\\Masters in ACM\\(i-j) 625.801-802 - ACM Master's Research\\Technical Work\\src\\kcm\\koopman_category_model.py:466: FutureWarning: `rcond` parameter will change to the default of machine precision times ``max(M, N)`` where M and N are the input matrix dimensions.\n",
      "To use the future default and silence this warning we advise to pass `rcond=None`, to keep using the old, explicitly pass `rcond=-1`.\n",
      "  b, _, _, _ = np.linalg.lstsq(modes,X[:,0])\n",
      "c:\\Users\\peterdb1\\Anaconda3\\envs\\koopman\\lib\\site-packages\\pandas\\core\\dtypes\\astype.py:133: ComplexWarning: Casting complex values to real discards the imaginary part\n",
      "  return arr.astype(dtype, copy=True)\n",
      "c:\\Users\\peterdb1\\Anaconda3\\envs\\koopman\\lib\\site-packages\\pandas\\core\\dtypes\\astype.py:133: ComplexWarning: Casting complex values to real discards the imaginary part\n",
      "  return arr.astype(dtype, copy=True)\n",
      "c:\\Users\\peterdb1\\Anaconda3\\envs\\koopman\\lib\\site-packages\\pandas\\core\\dtypes\\astype.py:133: ComplexWarning: Casting complex values to real discards the imaginary part\n",
      "  return arr.astype(dtype, copy=True)\n",
      "c:\\Users\\peterdb1\\Anaconda3\\envs\\koopman\\lib\\site-packages\\pandas\\core\\dtypes\\astype.py:133: ComplexWarning: Casting complex values to real discards the imaginary part\n",
      "  return arr.astype(dtype, copy=True)\n",
      "c:\\Users\\peterdb1\\Anaconda3\\envs\\koopman\\lib\\site-packages\\pandas\\core\\dtypes\\astype.py:133: ComplexWarning: Casting complex values to real discards the imaginary part\n",
      "  return arr.astype(dtype, copy=True)\n",
      "c:\\Users\\peterdb1\\Anaconda3\\envs\\koopman\\lib\\site-packages\\pandas\\core\\dtypes\\astype.py:133: ComplexWarning: Casting complex values to real discards the imaginary part\n",
      "  return arr.astype(dtype, copy=True)\n",
      "c:\\Users\\peterdb1\\Anaconda3\\envs\\koopman\\lib\\site-packages\\pandas\\core\\dtypes\\astype.py:133: ComplexWarning: Casting complex values to real discards the imaginary part\n",
      "  return arr.astype(dtype, copy=True)\n",
      "c:\\Users\\peterdb1\\Anaconda3\\envs\\koopman\\lib\\site-packages\\pandas\\core\\dtypes\\astype.py:133: ComplexWarning: Casting complex values to real discards the imaginary part\n",
      "  return arr.astype(dtype, copy=True)\n",
      "c:\\Users\\peterdb1\\Anaconda3\\envs\\koopman\\lib\\site-packages\\pandas\\core\\dtypes\\astype.py:133: ComplexWarning: Casting complex values to real discards the imaginary part\n",
      "  return arr.astype(dtype, copy=True)\n",
      "c:\\Users\\peterdb1\\Anaconda3\\envs\\koopman\\lib\\site-packages\\pandas\\core\\dtypes\\astype.py:133: ComplexWarning: Casting complex values to real discards the imaginary part\n",
      "  return arr.astype(dtype, copy=True)\n",
      "c:\\Users\\peterdb1\\Anaconda3\\envs\\koopman\\lib\\site-packages\\pandas\\core\\dtypes\\astype.py:133: ComplexWarning: Casting complex values to real discards the imaginary part\n",
      "  return arr.astype(dtype, copy=True)\n",
      "c:\\Users\\peterdb1\\Anaconda3\\envs\\koopman\\lib\\site-packages\\pandas\\core\\dtypes\\astype.py:133: ComplexWarning: Casting complex values to real discards the imaginary part\n",
      "  return arr.astype(dtype, copy=True)\n",
      "c:\\Users\\peterdb1\\Anaconda3\\envs\\koopman\\lib\\site-packages\\pandas\\core\\dtypes\\astype.py:133: ComplexWarning: Casting complex values to real discards the imaginary part\n",
      "  return arr.astype(dtype, copy=True)\n",
      "c:\\Users\\peterdb1\\Anaconda3\\envs\\koopman\\lib\\site-packages\\pandas\\core\\dtypes\\astype.py:133: ComplexWarning: Casting complex values to real discards the imaginary part\n",
      "  return arr.astype(dtype, copy=True)\n",
      "c:\\Users\\peterdb1\\Anaconda3\\envs\\koopman\\lib\\site-packages\\pandas\\core\\dtypes\\astype.py:133: ComplexWarning: Casting complex values to real discards the imaginary part\n",
      "  return arr.astype(dtype, copy=True)\n",
      "c:\\Users\\peterdb1\\Anaconda3\\envs\\koopman\\lib\\site-packages\\pandas\\core\\dtypes\\astype.py:133: ComplexWarning: Casting complex values to real discards the imaginary part\n",
      "  return arr.astype(dtype, copy=True)\n",
      "c:\\Users\\peterdb1\\Anaconda3\\envs\\koopman\\lib\\site-packages\\pandas\\core\\dtypes\\astype.py:133: ComplexWarning: Casting complex values to real discards the imaginary part\n",
      "  return arr.astype(dtype, copy=True)\n",
      "c:\\Users\\peterdb1\\Anaconda3\\envs\\koopman\\lib\\site-packages\\pandas\\core\\dtypes\\astype.py:133: ComplexWarning: Casting complex values to real discards the imaginary part\n",
      "  return arr.astype(dtype, copy=True)\n",
      "c:\\Users\\peterdb1\\Anaconda3\\envs\\koopman\\lib\\site-packages\\pandas\\core\\dtypes\\astype.py:133: ComplexWarning: Casting complex values to real discards the imaginary part\n",
      "  return arr.astype(dtype, copy=True)\n",
      "c:\\Users\\peterdb1\\Anaconda3\\envs\\koopman\\lib\\site-packages\\pandas\\core\\dtypes\\astype.py:133: ComplexWarning: Casting complex values to real discards the imaginary part\n",
      "  return arr.astype(dtype, copy=True)\n",
      "c:\\Users\\peterdb1\\Anaconda3\\envs\\koopman\\lib\\site-packages\\pandas\\core\\dtypes\\astype.py:133: ComplexWarning: Casting complex values to real discards the imaginary part\n",
      "  return arr.astype(dtype, copy=True)\n",
      "c:\\Users\\peterdb1\\Anaconda3\\envs\\koopman\\lib\\site-packages\\pandas\\core\\dtypes\\astype.py:133: ComplexWarning: Casting complex values to real discards the imaginary part\n",
      "  return arr.astype(dtype, copy=True)\n",
      "c:\\Users\\peterdb1\\Anaconda3\\envs\\koopman\\lib\\site-packages\\pandas\\core\\dtypes\\astype.py:133: ComplexWarning: Casting complex values to real discards the imaginary part\n",
      "  return arr.astype(dtype, copy=True)\n",
      "c:\\Users\\peterdb1\\Anaconda3\\envs\\koopman\\lib\\site-packages\\pandas\\core\\dtypes\\astype.py:133: ComplexWarning: Casting complex values to real discards the imaginary part\n",
      "  return arr.astype(dtype, copy=True)\n",
      "c:\\Users\\peterdb1\\Anaconda3\\envs\\koopman\\lib\\site-packages\\pandas\\core\\dtypes\\astype.py:133: ComplexWarning: Casting complex values to real discards the imaginary part\n",
      "  return arr.astype(dtype, copy=True)\n",
      "c:\\Users\\peterdb1\\Anaconda3\\envs\\koopman\\lib\\site-packages\\pandas\\core\\dtypes\\astype.py:133: ComplexWarning: Casting complex values to real discards the imaginary part\n",
      "  return arr.astype(dtype, copy=True)\n",
      "c:\\Users\\peterdb1\\Anaconda3\\envs\\koopman\\lib\\site-packages\\pandas\\core\\dtypes\\astype.py:133: ComplexWarning: Casting complex values to real discards the imaginary part\n",
      "  return arr.astype(dtype, copy=True)\n",
      "(1/2) * 300^2 = 45000 Wasserstein distance metrics: 100%|██████████| 300/300 [02:50<00:00,  1.76it/s]\n",
      "c:\\Users\\peterdb1\\Anaconda3\\envs\\koopman\\lib\\site-packages\\sklearn\\cluster\\_kmeans.py:1419: UserWarning: KMeans is known to have a memory leak on Windows with MKL, when there are less chunks than available threads. You can avoid it by setting the environment variable OMP_NUM_THREADS=2.\n",
      "  warnings.warn(\n",
      "5 * 2000 = 10000 Wasserstein distance metrics: 100%|██████████| 5/5 [00:35<00:00,  7.14s/it]\n",
      "5 * 500 = 2500 Wasserstein distance metrics: 100%|██████████| 5/5 [00:09<00:00,  1.86s/it]\n"
     ]
    }
   ],
   "source": [
    "num_cats = 5\n",
    "num_samples = 100\n",
    "system_dimension = 1\n",
    "delay_embeddings = 3 # 3\n",
    "num_segments = 5\n",
    "svd_rank = None\n",
    "dmd_rank = None\n",
    "q = 2\n",
    "num_clusters = 5\n",
    "test_size = 0.2\n",
    "codebook_training_size = 300\n",
    "\n",
    "KCM = KoopmanCategoryModel(num_cats=num_cats,\n",
    "                           num_samples=num_samples,\n",
    "                           system_dimension=system_dimension,\n",
    "                           delay_embeddings=delay_embeddings,\n",
    "                           num_segments=num_segments,\n",
    "                           svd_rank=svd_rank,\n",
    "                           dmd_rank=dmd_rank,\n",
    "                           q=q,\n",
    "                           cluster_method='kmeans',\n",
    "                           num_clusters=num_clusters)\n",
    "\n",
    "KCM.generate_data()\n",
    "KCM.train_test_split(test_size=test_size,\n",
    "                     codebook_training_size=codebook_training_size)\n",
    "KCM.create_codebook(include_plots=False)"
   ]
  },
  {
   "cell_type": "code",
   "execution_count": 3,
   "id": "2427310f-da33-4ede-b1c5-1cb42af3d881",
   "metadata": {},
   "outputs": [
    {
     "name": "stderr",
     "output_type": "stream",
     "text": [
      "Creating Phase Diagrams: 5it [00:54, 10.94s/it]\n"
     ]
    }
   ],
   "source": [
    "classifier = SVC(kernel='rbf', C=1, gamma='scale')\n",
    "KCM.perform_classification(classifier=classifier)\n",
    "KCM.create_phase_diagrams(inv_c_pred=True)\n",
    "KCM.save()\n",
    "KCM.shutdown_logger()"
   ]
  }
 ],
 "metadata": {
  "kernelspec": {
   "display_name": "koopman",
   "language": "python",
   "name": "python3"
  },
  "language_info": {
   "codemirror_mode": {
    "name": "ipython",
    "version": 3
   },
   "file_extension": ".py",
   "mimetype": "text/x-python",
   "name": "python",
   "nbconvert_exporter": "python",
   "pygments_lexer": "ipython3",
   "version": "3.10.18"
  }
 },
 "nbformat": 4,
 "nbformat_minor": 5
}
