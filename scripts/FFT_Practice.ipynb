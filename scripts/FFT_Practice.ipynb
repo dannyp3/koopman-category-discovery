{
 "cells": [
  {
   "cell_type": "code",
   "execution_count": 93,
   "id": "9f8e75cd-ccde-4451-855f-b2a96c4aaaa8",
   "metadata": {},
   "outputs": [],
   "source": [
    "import numpy as np\n",
    "import pandas as pd\n",
    "from matplotlib import pyplot as plt\n",
    "from scipy.fft import fft, fftfreq\n",
    "import pickle\n",
    "\n",
    "from sklearn.linear_model import LogisticRegression\n",
    "from sklearn.svm import SVC\n",
    "from sklearn.model_selection import train_test_split\n",
    "from sklearn.metrics import confusion_matrix\n",
    "from sklearn.preprocessing import StandardScaler\n",
    "\n",
    "plt.style.use('dark_background')"
   ]
  },
  {
   "cell_type": "code",
   "execution_count": 3,
   "id": "e756d72a-2ed7-4589-a326-221a1baf967b",
   "metadata": {},
   "outputs": [],
   "source": [
    "# https://www.youtube.com/watch?v=spUNpyF58BY&t=35s"
   ]
  },
  {
   "cell_type": "code",
   "execution_count": 4,
   "id": "e2aa5a6b-5829-48d8-b322-93f84edcbac3",
   "metadata": {},
   "outputs": [],
   "source": [
    "file_path = r\"C:\\Users\\peterdb1\\Documents\\Masters in ACM\\(i-j) 625.801-802 - ACM Master's Research\\Technical Work\\koopman-category-discovery\\data\\3-dimensional-systems\\dataset_7_class_500_samples.pkl\"\n",
    "with open(file_path, \"rb\") as f:\n",
    "    dataset = pickle.load(f)"
   ]
  },
  {
   "cell_type": "code",
   "execution_count": 43,
   "id": "c6764872-77d8-4230-8075-57cac343ee43",
   "metadata": {},
   "outputs": [],
   "source": [
    "# Step 2: FFT per dimension\n",
    "def extract_fourier_features(signal, T, normalize=False, plot=False):\n",
    "\n",
    "    if normalize:\n",
    "        signal = (signal - signal.mean(axis=0)) / signal.std(axis=0)\n",
    "        \n",
    "    N = len(signal)\n",
    "    yf = fft(signal)\n",
    "    xf = fftfreq(N, T)[:N//2]\n",
    "    \n",
    "    amplitudes = 2.0/N * np.abs(yf[:N//2])\n",
    "    dominant_freq = xf[np.argmax(amplitudes)]\n",
    "    centroid = np.sum(xf * amplitudes) / np.sum(amplitudes)\n",
    "    bandwidth = np.sqrt(np.sum(((xf - centroid)**2) * amplitudes) / np.sum(amplitudes))\n",
    "    energy = np.sum(amplitudes**2)\n",
    "    \n",
    "    features_dict = {\n",
    "        \"dominant_freq\": dominant_freq,\n",
    "        \"centroid\": centroid,\n",
    "        \"bandwidth\": bandwidth,\n",
    "        \"energy\": energy,\n",
    "        \"frequencies\": xf,\n",
    "        \"amplitudes\": amplitudes\n",
    "    }\n",
    "\n",
    "    features = np.array([dominant_freq, centroid, bandwidth, energy])\n",
    "\n",
    "    return features_dict, features\n",
    "        \n",
    "    if plot:\n",
    "        \n",
    "        # Make Plot of Signal\n",
    "        plt.plot(t, y)\n",
    "        plt.title(\"Time Series Signal\")\n",
    "        plt.xlabel(\"Time [s]\")\n",
    "        plt.ylabel(\"Amplitude\")\n",
    "        plt.grid(True)\n",
    "        plt.show()\n",
    "    \n",
    "        # Make Plots of Frequency Spectrum\n",
    "        plt.plot(xf, amplitudes)\n",
    "        plt.title(\"FFT - Frequency Spectrum\")\n",
    "        plt.xlabel(\"Frequency [Hz]\")\n",
    "        plt.ylabel(\"Amplitude\")\n",
    "        plt.grid(True)\n",
    "        plt.show()\n"
   ]
  },
  {
   "cell_type": "code",
   "execution_count": 46,
   "id": "2936bdde-7f43-45d7-8741-0037305e41d3",
   "metadata": {},
   "outputs": [],
   "source": [
    "normalize = False\n",
    "plot = False\n",
    "\n",
    "system = 'rossler'\n",
    "index = 1\n",
    "signal = dataset[system][index]\n",
    "\n",
    "t = signal['t']\n",
    "x, y, z = signal['y']\n",
    "\n",
    "T = np.mean(np.diff(t))\n",
    "\n",
    "extract_fourier_features(x,T,normalize,plot)\n",
    "\n",
    "_, features_x = extract_fourier_features(x, T, normalize, plot)\n",
    "_, features_y = extract_fourier_features(y, T, normalize, plot)\n",
    "_, features_z = extract_fourier_features(z, T, normalize, plot)\n",
    "\n",
    "# Step 3: FFT on vector magnitude\n",
    "magnitude = np.sqrt(x**2 + y**2 + z**2)\n",
    "_, features_mag = extract_fourier_features(magnitude, T, normalize, plot)"
   ]
  },
  {
   "cell_type": "code",
   "execution_count": 72,
   "id": "9491c5fe-fe79-45e1-b524-450c0671891b",
   "metadata": {},
   "outputs": [],
   "source": [
    "normalize = False\n",
    "plot = False\n",
    "\n",
    "num_indices = 500\n",
    "\n",
    "x_feats = []\n",
    "y_feats = []\n",
    "z_feats = []\n",
    "mag_feats = []\n",
    "\n",
    "for system in dataset.keys():\n",
    "    for index in range(num_indices):\n",
    "        \n",
    "        signal = dataset[system][index]\n",
    "        \n",
    "        t = signal['t']\n",
    "        x, y, z = signal['y']\n",
    "        \n",
    "        T = np.mean(np.diff(t))\n",
    "        \n",
    "        extract_fourier_features(x,T,normalize,plot)\n",
    "        \n",
    "        _, features_x = extract_fourier_features(x, T, normalize, plot)\n",
    "        _, features_y = extract_fourier_features(y, T, normalize, plot)\n",
    "        _, features_z = extract_fourier_features(z, T, normalize, plot)\n",
    "        \n",
    "        # Step 3: FFT on vector magnitude\n",
    "        magnitude = np.sqrt(x**2 + y**2 + z**2)\n",
    "        _, features_mag = extract_fourier_features(magnitude, T, normalize, plot)\n",
    "\n",
    "        x_feats.extend(features_x)\n",
    "        y_feats.extend(features_y)\n",
    "        z_feats.extend(features_z)\n",
    "        mag_feats.extend(features_mag)\n",
    "\n",
    "\n",
    "x_feats = np.array(x_feats).reshape(-1,4)\n",
    "y_feats = np.array(y_feats).reshape(-1,4)\n",
    "z_feats = np.array(z_feats).reshape(-1,4)\n",
    "mag_feats = np.array(mag_feats).reshape(-1,4)\n",
    "\n",
    "features = np.hstack([x_feats,y_feats,z_feats,mag_feats])"
   ]
  },
  {
   "cell_type": "code",
   "execution_count": 75,
   "id": "0838c3e2-6bb6-4e01-83ce-98368ca0659b",
   "metadata": {},
   "outputs": [],
   "source": [
    "col_names = ['dominant_freq', 'centroid', 'bandwidth', 'energy']\n",
    "columns = [col + '_x' for col in col_names] + [col + '_y' for col in col_names] + [col + '_z' for col in col_names] + [col + '_mag' for col in col_names]\n",
    "\n",
    "df = pd.DataFrame(data=features,columns=columns)\n",
    "df['target'] = np.arange(len(df)) // num_indices\n",
    "\n",
    "X = df.drop(columns='target')\n",
    "y = df['target']"
   ]
  },
  {
   "cell_type": "code",
   "execution_count": 89,
   "id": "46ae2771-74a4-4ff8-ba79-5c904466cef2",
   "metadata": {},
   "outputs": [
    {
     "name": "stdout",
     "output_type": "stream",
     "text": [
      "0.8428571428571429\n"
     ]
    },
    {
     "data": {
      "text/plain": [
       "array([[140,   0,   3,   7,   0,   0,   0],\n",
       "       [  1, 167,   2,   0,   0,   0,   0],\n",
       "       [  5,   4,  83,   3,   0,  60,   0],\n",
       "       [ 28,   2,   0, 112,   1,   0,   0],\n",
       "       [  0,   0,   0,   0, 149,   0,   0],\n",
       "       [  3,   0,  45,   0,   0, 105,   0],\n",
       "       [  0,   0,   0,   0,   1,   0, 129]])"
      ]
     },
     "execution_count": 89,
     "metadata": {},
     "output_type": "execute_result"
    }
   ],
   "source": [
    "X_train, X_test, y_train, y_test = train_test_split(X,y,test_size=0.3)\n",
    "\n",
    "\n",
    "scaler = StandardScaler()\n",
    "X_train_scaled = scaler.fit_transform(X_train)\n",
    "X_test_scaled = scaler.transform(X_test)\n",
    "\n",
    "model = SVC()\n",
    "\n",
    "# model = LogisticRegression()\n",
    "model.fit(X_train_scaled,y_train)\n",
    "print(model.score(X_test_scaled,y_test))\n",
    "\n",
    "confusion_matrix(y_test,model.predict(X_test_scaled))"
   ]
  }
 ],
 "metadata": {
  "kernelspec": {
   "display_name": "Python 3 (ipykernel)",
   "language": "python",
   "name": "python3"
  },
  "language_info": {
   "codemirror_mode": {
    "name": "ipython",
    "version": 3
   },
   "file_extension": ".py",
   "mimetype": "text/x-python",
   "name": "python",
   "nbconvert_exporter": "python",
   "pygments_lexer": "ipython3",
   "version": "3.10.18"
  }
 },
 "nbformat": 4,
 "nbformat_minor": 5
}
