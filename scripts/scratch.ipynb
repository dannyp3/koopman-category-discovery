{
 "cells": [
  {
   "cell_type": "code",
   "execution_count": 28,
   "id": "cb4ab8f8-4191-436d-8c96-cfb4026c7791",
   "metadata": {},
   "outputs": [],
   "source": [
    "import numpy as np\n",
    "import pandas as pd\n",
    "from matplotlib import pyplot as plt\n",
    "import pickle\n",
    "import torch\n",
    "from tqdm import tqdm\n",
    "\n",
    "from sklearn.svm import SVC\n",
    "from sklearn.manifold import MDS\n",
    "from sklearn.model_selection import train_test_split\n",
    "from sklearn.metrics import confusion_matrix\n",
    "from sklearn.linear_model import LogisticRegression\n",
    "from sklearn.metrics import adjusted_rand_score, normalized_mutual_info_score, adjusted_mutual_info_score\n",
    "from scipy.stats import wasserstein_distance\n",
    "\n",
    "from pathlib import Path\n",
    "import pathlib\n",
    "import os\n",
    "from datetime import datetime\n",
    "import uuid\n",
    "import json\n",
    "import shutil\n",
    "\n",
    "from kcm.koopman_category_model import KoopmanCategoryModel\n",
    "from kcm.basic_feature_extract import BasicFeatureExtractor\n",
    "from kcm.discovery import (\n",
    "    CategoryDiscoveryTrainer,\n",
    "    train_test_split_indices,\n",
    "    prep_data_for_discovery,\n",
    "    check_histograms,\n",
    "    sup_con_loss,\n",
    "    BaselineModel,\n",
    "    HASHHead,\n",
    "    cluster_acc,\n",
    "    split_cluster_acc_v1,\n",
    "    split_cluster_acc_v2,\n",
    "    create_hash_ids\n",
    ")\n",
    "\n",
    "from kcm.utils import load_koopman_model\n",
    "\n",
    "plt.style.use('dark_background')\n"
   ]
  },
  {
   "cell_type": "code",
   "execution_count": 5,
   "id": "13868e22-0976-4a95-8286-49fbf047c5f7",
   "metadata": {},
   "outputs": [
    {
     "name": "stdout",
     "output_type": "stream",
     "text": [
      "Loading in Koopman Category Model at: KCM_20250814_202425_aa4a3b40\n"
     ]
    }
   ],
   "source": [
    "######## Koopman Category Model Version ########\n",
    "KCM_name = \"KCM_20250814_202425_aa4a3b40\"\n",
    "################################################\n",
    "\n",
    "pathlib.PosixPath = pathlib.WindowsPath\n",
    "\n",
    "\n",
    "print(f'Loading in Koopman Category Model at: {KCM_name}')\n",
    "\n",
    "full_path = Path(r\"C:\\Users\\peterdb1\\Documents\\Masters in ACM\\(i-j) 625.801-802 - ACM Master's Research\\Technical Work\\koopman-category-discovery\\experiments\")\n",
    "koopman_dir = full_path / KCM_name\n",
    "KCM, KCM_params = load_koopman_model(koopman_dir)"
   ]
  },
  {
   "cell_type": "code",
   "execution_count": 14,
   "id": "84040707-bdec-49e0-9ed3-b2c4b3a6c104",
   "metadata": {},
   "outputs": [],
   "source": [
    "# plt.scatter(KCM.X_transformed[:,0],KCM.X_transformed[:,1])\n",
    "# KCM.X_transformed.mean(axis=1)\n",
    "\n",
    "# embedding = MDS(n_components=self.MDS_dimension, dissimilarity='precomputed', random_state=self.seed)\n",
    "# self.X_transformed = embedding.fit_transform(metric_matrix)"
   ]
  },
  {
   "cell_type": "code",
   "execution_count": 79,
   "id": "36e2fe73-181e-42d1-8c2f-251c5bcbbaee",
   "metadata": {},
   "outputs": [
    {
     "data": {
      "text/plain": [
       "np.int64(757)"
      ]
     },
     "execution_count": 79,
     "metadata": {},
     "output_type": "execute_result"
    }
   ],
   "source": [
    "(abs(np.array(KCM.all_eigs)) > 5).sum()"
   ]
  },
  {
   "cell_type": "code",
   "execution_count": 76,
   "id": "fd4a6d59-adaa-476e-a6da-be8df950c5ad",
   "metadata": {},
   "outputs": [
    {
     "data": {
      "text/plain": [
       "np.int64(4)"
      ]
     },
     "execution_count": 76,
     "metadata": {},
     "output_type": "execute_result"
    }
   ],
   "source": [
    "(abs(KCM.df.groupby(['target','sample']).agg('mean')[[col for col in KCM.df.columns if 'eig_' in col]].values).max(axis=1) > 5).sum()"
   ]
  },
  {
   "cell_type": "code",
   "execution_count": 123,
   "id": "45c37068-1492-418c-8d6f-b783b68b3b60",
   "metadata": {},
   "outputs": [
    {
     "data": {
      "text/plain": [
       "array([[-2.34326231e-001, -3.00162491e+116, -8.18988425e+098,\n",
       "         1.08202457e+083, -7.46825854e+084, -1.76200401e+085,\n",
       "        -7.46825854e+084, -7.46825854e+084, -7.46825854e+084,\n",
       "         7.46825854e+084,  7.46825854e+084,  1.19173630e+085,\n",
       "         7.46825854e+084,  7.46825854e+084, -7.46825854e+084],\n",
       "       [-2.10830690e-001, -1.66756939e+116, -9.61754301e+098,\n",
       "         3.63744116e+082, -4.19527147e+084,  1.48759949e+085,\n",
       "        -4.19527147e+084, -4.19527147e+084, -4.19527147e+084,\n",
       "         4.19527147e+084,  4.19527147e+084,  2.00199490e+083,\n",
       "         4.19527147e+084,  4.19527147e+084, -4.19527147e+084],\n",
       "       [-3.17240662e-001,  6.67027757e+116,  1.48902849e+099,\n",
       "        -2.55952315e+083,  1.65659332e+085,  2.40992309e+085,\n",
       "         1.65659332e+085,  1.65659332e+085,  1.65659332e+085,\n",
       "        -1.65659332e+085, -1.65659332e+085, -1.58958568e+085,\n",
       "        -1.65659332e+085, -1.65659332e+085,  1.65659332e+085],\n",
       "       [-2.34326231e-001, -3.00162491e+116, -8.18988425e+098,\n",
       "         1.08202457e+083, -7.46825854e+084, -1.76200401e+085,\n",
       "        -7.46825854e+084, -7.46825854e+084, -7.46825854e+084,\n",
       "         7.46825854e+084,  7.46825854e+084,  1.19173630e+085,\n",
       "         7.46825854e+084,  7.46825854e+084, -7.46825854e+084],\n",
       "       [-2.10830690e-001, -1.66756939e+116, -9.61754301e+098,\n",
       "         3.63744116e+082, -4.19527147e+084,  1.48759949e+085,\n",
       "        -4.19527147e+084, -4.19527147e+084, -4.19527147e+084,\n",
       "         4.19527147e+084,  4.19527147e+084,  2.00199490e+083,\n",
       "         4.19527147e+084,  4.19527147e+084, -4.19527147e+084],\n",
       "       [-3.17240662e-001,  6.67027757e+116,  1.48902849e+099,\n",
       "        -2.55952315e+083,  1.65659332e+085,  2.40992309e+085,\n",
       "         1.65659332e+085,  1.65659332e+085,  1.65659332e+085,\n",
       "        -1.65659332e+085, -1.65659332e+085, -1.58958568e+085,\n",
       "        -1.65659332e+085, -1.65659332e+085,  1.65659332e+085],\n",
       "       [-2.34326231e-001, -3.00162491e+116, -8.18988425e+098,\n",
       "         1.08202457e+083, -7.46825854e+084, -1.76200401e+085,\n",
       "        -7.46825854e+084, -7.46825854e+084, -7.46825854e+084,\n",
       "         7.46825854e+084,  7.46825854e+084,  1.19173630e+085,\n",
       "         7.46825854e+084,  7.46825854e+084, -7.46825854e+084],\n",
       "       [-2.10830690e-001, -1.66756939e+116, -9.61754301e+098,\n",
       "         3.63744116e+082, -4.19527147e+084,  1.48759949e+085,\n",
       "        -4.19527147e+084, -4.19527147e+084, -4.19527147e+084,\n",
       "         4.19527147e+084,  4.19527147e+084,  2.00199490e+083,\n",
       "         4.19527147e+084,  4.19527147e+084, -4.19527147e+084],\n",
       "       [-3.17240662e-001,  6.67027757e+116,  1.48902849e+099,\n",
       "        -2.55952315e+083,  1.65659332e+085,  2.40992309e+085,\n",
       "         1.65659332e+085,  1.65659332e+085,  1.65659332e+085,\n",
       "        -1.65659332e+085, -1.65659332e+085, -1.58958568e+085,\n",
       "        -1.65659332e+085, -1.65659332e+085,  1.65659332e+085],\n",
       "       [-2.34326231e-001, -3.00162491e+116, -8.18988425e+098,\n",
       "         1.08202457e+083, -7.46825854e+084, -1.76200401e+085,\n",
       "        -7.46825854e+084, -7.46825854e+084, -7.46825854e+084,\n",
       "         7.46825854e+084,  7.46825854e+084,  1.19173630e+085,\n",
       "         7.46825854e+084,  7.46825854e+084, -7.46825854e+084],\n",
       "       [-2.10830690e-001, -1.66756939e+116, -9.61754301e+098,\n",
       "         3.63744116e+082, -4.19527147e+084,  1.48759949e+085,\n",
       "        -4.19527147e+084, -4.19527147e+084, -4.19527147e+084,\n",
       "         4.19527147e+084,  4.19527147e+084,  2.00199490e+083,\n",
       "         4.19527147e+084,  4.19527147e+084, -4.19527147e+084],\n",
       "       [-3.17240662e-001,  6.67027757e+116,  1.48902849e+099,\n",
       "        -2.55952315e+083,  1.65659332e+085,  2.40992309e+085,\n",
       "         1.65659332e+085,  1.65659332e+085,  1.65659332e+085,\n",
       "        -1.65659332e+085, -1.65659332e+085, -1.58958568e+085,\n",
       "        -1.65659332e+085, -1.65659332e+085,  1.65659332e+085],\n",
       "       [-2.34326231e-001, -2.66811103e+116, -7.69357934e+098,\n",
       "         9.42421609e+082, -6.64222664e+084, -1.71044935e+085,\n",
       "        -6.64222664e+084, -6.64222664e+084, -6.64222664e+084,\n",
       "         6.64222664e+084,  6.64222664e+084,  1.11777235e+085,\n",
       "         6.64222664e+084,  6.64222664e+084, -6.64222664e+084],\n",
       "       [-2.10830690e-001, -1.66756939e+116, -9.61754301e+098,\n",
       "         3.63744116e+082, -4.19527147e+084,  1.35565468e+085,\n",
       "        -4.19527147e+084, -4.19527147e+084, -4.19527147e+084,\n",
       "         4.19527147e+084,  4.19527147e+084,  5.42278583e+083,\n",
       "         4.19527147e+084,  4.19527147e+084, -4.19527147e+084],\n",
       "       [-3.17240662e-001,  7.33730532e+116,  1.58828947e+099,\n",
       "        -2.83872908e+083,  1.82179970e+085,  2.24914278e+085,\n",
       "         1.82179970e+085,  1.82179970e+085,  1.82179970e+085,\n",
       "        -1.82179970e+085, -1.82179970e+085, -1.66909776e+085,\n",
       "        -1.82179970e+085, -1.82179970e+085,  1.82179970e+085]])"
      ]
     },
     "execution_count": 123,
     "metadata": {},
     "output_type": "execute_result"
    }
   ],
   "source": [
    "maxes = np.array([np.max(abs(KCM.all_eigs[i])) for i in range(len(KCM.all_eigs))])\n",
    "KCM.all_modes[maxes.argmax()]"
   ]
  }
 ],
 "metadata": {
  "kernelspec": {
   "display_name": "Python 3 (ipykernel)",
   "language": "python",
   "name": "python3"
  },
  "language_info": {
   "codemirror_mode": {
    "name": "ipython",
    "version": 3
   },
   "file_extension": ".py",
   "mimetype": "text/x-python",
   "name": "python",
   "nbconvert_exporter": "python",
   "pygments_lexer": "ipython3",
   "version": "3.10.18"
  }
 },
 "nbformat": 4,
 "nbformat_minor": 5
}
