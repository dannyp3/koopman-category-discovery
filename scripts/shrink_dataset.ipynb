{
 "cells": [
  {
   "cell_type": "code",
   "execution_count": 63,
   "id": "eedbb850-3859-422e-bef2-540f929daac9",
   "metadata": {},
   "outputs": [],
   "source": [
    "import os\n",
    "import pickle\n",
    "from pathlib import Path"
   ]
  },
  {
   "cell_type": "code",
   "execution_count": 64,
   "id": "bdb99fb7-4ee3-4875-9443-ab0267253929",
   "metadata": {},
   "outputs": [],
   "source": [
    "# ['harmonic_oscillator', 'spring_mass_with_forcing', 'duffing_oscillator', 'van_der_pol_oscillator',\n",
    "#  'nonlinear_damped_oscillator', 'nonlinear_spring', 'piecewise_linear_oscillator',\n",
    "#  'sine_pendulum', 'sigmoid_pendulum', 'arctangent_oscillator']\n",
    "\n",
    "# ['lorenz', 'rossler', 'chen', 'halvorsen', 'sprott_a', 'tigan', 'cross_coupled']"
   ]
  },
  {
   "cell_type": "code",
   "execution_count": 65,
   "id": "de5636ae-330e-4bf5-96ee-f93abb83365b",
   "metadata": {},
   "outputs": [],
   "source": [
    "num_cats = 10\n",
    "num_samples = 500\n",
    "system_dimension = 2\n",
    "noisy_data=False\n",
    "noise_std=0.01\n",
    "\n",
    "sample_name = f'noisy_{noise_std}_samples' if noisy_data > 0 else 'samples'\n",
    "data_path = Path().resolve().parents[0] / 'data' / f'{system_dimension}-dimensional-systems' / f\"dataset_{num_cats}_class_{num_samples}_{sample_name}.pkl\"\n",
    "\n",
    "with open(data_path, \"rb\") as f:\n",
    "    dataset = pickle.load(f)"
   ]
  },
  {
   "cell_type": "code",
   "execution_count": 66,
   "id": "76b9a289-62df-47bc-9981-b6fe6735231f",
   "metadata": {},
   "outputs": [],
   "source": [
    "# sub_classes = ['lorenz', 'rossler', 'chen', 'halvorsen']\n",
    "sub_classes = ['harmonic_oscillator', 'van_der_pol_oscillator', 'nonlinear_spring', 'piecewise_linear_oscillator']\n",
    "new_num_cats = len(sub_classes)\n",
    "new_num_samples = 100\n",
    "\n",
    "new_dataset = {key : item[:new_num_samples] for key, item in dataset.items() if key in sub_classes}\n",
    "\n",
    "new_path = Path().resolve().parents[0] / 'data' / f'{system_dimension}-dimensional-systems' / f\"dataset_{new_num_cats}_class_{new_num_samples}_{sample_name}.pkl\"\n",
    "with open(new_path, 'wb') as f:\n",
    "    pickle.dump(new_dataset, f)"
   ]
  }
 ],
 "metadata": {
  "kernelspec": {
   "display_name": "Python 3 (ipykernel)",
   "language": "python",
   "name": "python3"
  },
  "language_info": {
   "codemirror_mode": {
    "name": "ipython",
    "version": 3
   },
   "file_extension": ".py",
   "mimetype": "text/x-python",
   "name": "python",
   "nbconvert_exporter": "python",
   "pygments_lexer": "ipython3",
   "version": "3.10.18"
  }
 },
 "nbformat": 4,
 "nbformat_minor": 5
}
