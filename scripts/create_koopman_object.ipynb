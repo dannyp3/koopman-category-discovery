{
 "cells": [
  {
   "cell_type": "markdown",
   "id": "d24ee5fa-8f16-4c6c-a501-added1a415d2",
   "metadata": {},
   "source": [
    "### Create Koopman Object"
   ]
  },
  {
   "cell_type": "code",
   "execution_count": 3,
   "id": "4579ec6a-1a48-4d53-9291-9280b509c7fe",
   "metadata": {},
   "outputs": [
    {
     "name": "stdout",
     "output_type": "stream",
     "text": [
      "The autoreload extension is already loaded. To reload it, use:\n",
      "  %reload_ext autoreload\n"
     ]
    }
   ],
   "source": [
    "%load_ext autoreload\n",
    "%autoreload 2\n",
    "\n",
    "import numpy as np\n",
    "import pandas as pd\n",
    "from matplotlib import pyplot as plt\n",
    "import pickle\n",
    "import torch\n",
    "from tqdm import tqdm\n",
    "\n",
    "from sklearn.svm import SVC\n",
    "from sklearn.model_selection import train_test_split\n",
    "from sklearn.metrics import confusion_matrix\n",
    "from sklearn.linear_model import LogisticRegression\n",
    "from sklearn.metrics import adjusted_rand_score, normalized_mutual_info_score, adjusted_mutual_info_score\n",
    "from scipy.stats import wasserstein_distance\n",
    "\n",
    "from pathlib import Path\n",
    "import os\n",
    "from datetime import datetime\n",
    "import uuid\n",
    "import json\n",
    "import shutil\n",
    "\n",
    "from kcm.koopman_category_model import KoopmanCategoryModel\n",
    "from kcm.basic_feature_extract import BasicFeatureExtractor\n",
    "from kcm.discovery import (\n",
    "    CategoryDiscoveryTrainer,\n",
    "    train_test_split_indices,\n",
    "    prep_data_for_discovery,\n",
    "    check_histograms,\n",
    "    sup_con_loss,\n",
    "    BaselineModel,\n",
    "    HASHHead,\n",
    "    cluster_acc,\n",
    "    split_cluster_acc_v1,\n",
    "    split_cluster_acc_v2,\n",
    "    create_hash_ids\n",
    ")\n",
    "\n",
    "# import warnings\n",
    "# warnings.filterwarnings('ignore')\n",
    "\n",
    "\n",
    "plt.style.use('dark_background')"
   ]
  },
  {
   "cell_type": "code",
   "execution_count": 4,
   "id": "6c966080-0023-4f3e-b351-61f850e5c8d7",
   "metadata": {},
   "outputs": [],
   "source": [
    "# Reproducibility Code\n",
    "seed=42\n",
    "rng = np.random.default_rng(seed)"
   ]
  },
  {
   "cell_type": "code",
   "execution_count": 7,
   "id": "5a83ae61-b608-457a-96cd-0524f52bb24b",
   "metadata": {},
   "outputs": [
    {
     "name": "stdout",
     "output_type": "stream",
     "text": [
      "Category Discovery Split...\n",
      "    Training Size: 240\n",
      "    Testing Size: 160\n"
     ]
    }
   ],
   "source": [
    "############### Shared Inputs ###############\n",
    "num_cats = 4 # 10, 4\n",
    "num_samples = 100 # 500, 100\n",
    "system_dimension = 3 # 2\n",
    "test_size = 0.2\n",
    "category_discovery=True\n",
    "train_classes = range(3) # range(3) # range(7)\n",
    "noisy_data=False\n",
    "noise_std=0.01\n",
    "samples_name = f'noisy_{noise_std}_samples' if noisy_data else 'samples'\n",
    "data_path = (rf\"C:\\Users\\peterdb1\\Documents\\Masters in ACM\\(i-j) 625.801-802 - ACM Master's Research\\Technical Work\\koopman-category-discovery\\data\",\n",
    "                f\"{system_dimension}-dimensional-systems\",\n",
    "                f\"dataset_{num_cats}_class_{num_samples}_{samples_name}.pkl\"\n",
    "            )\n",
    "data_path = os.path.join(*data_path)\n",
    "use_gpu = False\n",
    "#############################################\n",
    "\n",
    "\n",
    "############ kcm-specific inputs ############\n",
    "delay_embeddings = 5\n",
    "num_segments = 20 # 30, 8\n",
    "svd_rank = None\n",
    "dmd_rank = None\n",
    "q = 1\n",
    "num_clusters = 8 # 15, 5\n",
    "codebook_training_size = 50 # 490 # divides <num training classes>\n",
    "normalize_kcm_inputs=True\n",
    "soft_clustering=True\n",
    "tau = 0.1\n",
    "#############################################\n",
    "\n",
    "train_counts, test_counts = train_test_split_indices(num_cats,num_samples,test_size,train_classes,category_discovery,rng)"
   ]
  },
  {
   "cell_type": "markdown",
   "id": "19932af4-7379-4e9e-b572-5735e9e8c5cb",
   "metadata": {},
   "source": [
    "### Prepare Data"
   ]
  },
  {
   "cell_type": "code",
   "execution_count": 8,
   "id": "658deabd-5cbd-4a76-8259-195bdb091b2e",
   "metadata": {},
   "outputs": [
    {
     "name": "stdout",
     "output_type": "stream",
     "text": [
      "Loading data in at C:\\Users\\peterdb1\\Documents\\Masters in ACM\\(i-j) 625.801-802 - ACM Master's Research\\Technical Work\\koopman-category-discovery\\data\\3-dimensional-systems\\dataset_4_class_100_samples.pkl...\n",
      "Generating 8000 DMD eigs/modes each with dimensionality 18\n"
     ]
    },
    {
     "name": "stderr",
     "output_type": "stream",
     "text": [
      "lorenz system: 100%|█████████████████████████████████████████████████████████████████████████████████████████████████████████████████████████████████████████████████████████| 100/100 [00:01<00:00, 78.19it/s]\n",
      "rossler system: 100%|████████████████████████████████████████████████████████████████████████████████████████████████████████████████████████████████████████████████████████| 100/100 [00:01<00:00, 73.99it/s]\n",
      "chen system: 100%|███████████████████████████████████████████████████████████████████████████████████████████████████████████████████████████████████████████████████████████| 100/100 [00:01<00:00, 75.59it/s]\n",
      "halvorsen system: 100%|██████████████████████████████████████████████████████████████████████████████████████████████████████████████████████████████████████████████████████| 100/100 [00:01<00:00, 70.89it/s]\n",
      "Formatting DMD data: 100%|███████████████████████████████████████████████████████████████████████████████████████████████████████████████████████████████████████████████| 8000/8000 [00:03<00:00, 2360.57it/s]\n"
     ]
    }
   ],
   "source": [
    "KCM = KoopmanCategoryModel(num_cats=num_cats,\n",
    "                           num_samples=num_samples,\n",
    "                           system_dimension=system_dimension,\n",
    "                           delay_embeddings=delay_embeddings,\n",
    "                           num_segments=num_segments,\n",
    "                           svd_rank=svd_rank,\n",
    "                           dmd_rank=dmd_rank,\n",
    "                           q=q,\n",
    "                           data_path=data_path,\n",
    "                           cluster_method='kmeans',\n",
    "                           num_clusters=num_clusters,\n",
    "                           noisy_data=noisy_data,\n",
    "                           noise_std=noise_std,\n",
    "                           normalize_inputs=normalize_kcm_inputs,\n",
    "                           train_classes=train_classes,\n",
    "                           soft_clustering=soft_clustering,\n",
    "                           tau=tau,\n",
    "                           seed=seed,\n",
    "                           use_gpu=use_gpu)\n",
    "\n",
    "KCM.train_counts = train_counts\n",
    "KCM.test_counts = test_counts\n",
    "KCM.generate_data()\n",
    "\n",
    "kcm = KCM.df\n",
    "kcm_train_data = kcm.loc[kcm['count'].isin(train_counts)].reset_index(drop=True)\n",
    "kcm_test_data = kcm.loc[kcm['count'].isin(test_counts)].reset_index(drop=True)\n",
    "\n",
    "KCM.df_train = kcm_train_data\n",
    "KCM.df_test = kcm_test_data\n",
    "\n",
    "assert int(kcm_train_data.shape[0]/num_segments) == len(train_counts), 'training samples not correct shape'\n",
    "assert int(kcm_test_data.shape[0]/num_segments) == len(test_counts), 'testing samples not correct shape'"
   ]
  },
  {
   "cell_type": "code",
   "execution_count": 19,
   "id": "ad96f5c3-fd09-4de6-b74f-f0e4c08c88d7",
   "metadata": {},
   "outputs": [
    {
     "name": "stdout",
     "output_type": "stream",
     "text": [
      "KCM_20250814_195212_1da3e4b9\n"
     ]
    }
   ],
   "source": [
    "print(KCM.run_dir.stem)"
   ]
  },
  {
   "cell_type": "code",
   "execution_count": 10,
   "id": "00e123e8-4233-4cd5-8894-105ab239b220",
   "metadata": {},
   "outputs": [
    {
     "name": "stdout",
     "output_type": "stream",
     "text": [
      "Creating df_sample for codebook\n"
     ]
    },
    {
     "name": "stderr",
     "output_type": "stream",
     "text": [
      "(1/2) * 50^2 = 1250 Wasserstein distance metrics:  90%|███████████████████████████████████████████████████████████████████████████████████████████████████████▊           | 1128/1250 [00:03<00:00, 374.50it/s]\n",
      "8 * 4800 = 38400 Wasserstein distance metrics: 100%|████████████████████████████████████████████████████████████████████████████████████████████████████████████████████| 38400/38400 [01:31<00:00, 419.81it/s]\n",
      "8 * 3200 = 25600 Wasserstein distance metrics: 100%|████████████████████████████████████████████████████████████████████████████████████████████████████████████████████| 25600/25600 [01:05<00:00, 392.26it/s]\n"
     ]
    }
   ],
   "source": [
    "KCM.create_codebook(codebook_training_size=codebook_training_size,\n",
    "                    category_discovery=category_discovery,\n",
    "                    include_plots=True)\n",
    "\n",
    "KCM.create_feature_outputs()\n",
    "\n",
    "KCM.save()\n",
    "KCM.shutdown_logger()"
   ]
  }
 ],
 "metadata": {
  "kernelspec": {
   "display_name": "Python 3 (ipykernel)",
   "language": "python",
   "name": "python3"
  },
  "language_info": {
   "codemirror_mode": {
    "name": "ipython",
    "version": 3
   },
   "file_extension": ".py",
   "mimetype": "text/x-python",
   "name": "python",
   "nbconvert_exporter": "python",
   "pygments_lexer": "ipython3",
   "version": "3.10.18"
  }
 },
 "nbformat": 4,
 "nbformat_minor": 5
}
