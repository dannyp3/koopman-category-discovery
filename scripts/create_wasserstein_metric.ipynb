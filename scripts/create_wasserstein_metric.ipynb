{
 "cells": [
  {
   "cell_type": "markdown",
   "id": "08b13ea1-c4b9-4503-8318-dd7471559a78",
   "metadata": {},
   "source": [
    "### Create Wasserstein Metric"
   ]
  },
  {
   "cell_type": "code",
   "execution_count": 46,
   "id": "d1cd4c87-50dd-47fa-9df5-5b84784b5802",
   "metadata": {},
   "outputs": [],
   "source": [
    "import numpy as np\n",
    "from tqdm import tqdm\n",
    "from scipy.optimize import linprog\n",
    "from scipy.stats import wasserstein_distance\n",
    "from ot.sliced import sliced_wasserstein_distance\n",
    "import ot\n",
    "import time"
   ]
  },
  {
   "cell_type": "code",
   "execution_count": 66,
   "id": "5292d91e-a8d5-4f20-a73a-3df9e83be530",
   "metadata": {},
   "outputs": [],
   "source": [
    "# Example: 6 Koopman eigenvalues per segment\n",
    "eigs1 = np.array([0.5 - 0.4j, 0.99 + 0.01j, 0.2 + 0.3j, 1.1 - 0.2j, 0.6 + 0.7j])\n",
    "eigs2 = np.array([0.9 + 1.1j, 0.4 - 0.3j, 0.95 + 0.05j, 0.3 + 0.35j, 1.2 - 0.1j, 0.55 + 0.6j])\n",
    "\n",
    "# Weights = normalized mode norms\n",
    "weights1 = np.array([0.3, 1.2, 0.4, 0.6, 0.8])\n",
    "weights2 = np.array([1.0, 0.4, 1.6, 0.3, 0.7, 0.5])\n",
    "weights1 /= weights1.sum()\n",
    "weights2 /= weights2.sum()"
   ]
  },
  {
   "cell_type": "code",
   "execution_count": 67,
   "id": "104f348a-77a4-4eaf-8636-4a178035b314",
   "metadata": {},
   "outputs": [],
   "source": [
    "l1 = np.stack([eigs1.real, eigs1.imag], axis=1)\n",
    "l2 = np.stack([eigs2.real, eigs2.imag], axis=1)\n",
    "\n",
    "\n",
    "start = time.time()\n",
    "for i in range(10):\n",
    "    C = ot.dist(l1, l2, metric='euclidean')\n",
    "    emd2_dist = ot.emd2(weights1, weights2, C)\n",
    "emd2_time = time.time() - start"
   ]
  },
  {
   "cell_type": "code",
   "execution_count": 61,
   "id": "dcd8443a-bc6b-43d8-9619-d79c7fb6609c",
   "metadata": {},
   "outputs": [],
   "source": [
    "start = time.time()\n",
    "for i in range(1000):\n",
    "    sinkhorn_dist = ot.sinkhorn2(weights1, weights2, C, reg=1e-2)  # sinkhorn2 returns (dist, log)\n",
    "sinkhorn_time = time.time() - start"
   ]
  },
  {
   "cell_type": "code",
   "execution_count": 62,
   "id": "4b9cd99f-620b-4d2c-ab1f-a407dce21d35",
   "metadata": {},
   "outputs": [],
   "source": [
    "start = time.time()\n",
    "for i in range(1000):\n",
    "    scipy_dist_real = wasserstein_distance(u_values=eigs1.real, v_values=eigs2.real,\n",
    "                                   u_weights=weights1, v_weights=weights2)\n",
    "scipy_time = time.time() - start"
   ]
  },
  {
   "cell_type": "code",
   "execution_count": 65,
   "id": "5106ac6c-fbae-4275-90d7-544c1b9b86f8",
   "metadata": {},
   "outputs": [
    {
     "data": {
      "text/plain": [
       "(0.19497990608215332, 17.353342533111572, 0.0720674991607666)"
      ]
     },
     "execution_count": 65,
     "metadata": {},
     "output_type": "execute_result"
    }
   ],
   "source": [
    "emd2_time, sinkhorn_time, scipy_time"
   ]
  },
  {
   "cell_type": "code",
   "execution_count": 59,
   "id": "5ae6a9d1-0b54-4abe-b905-5ab68234a0d0",
   "metadata": {},
   "outputs": [
    {
     "data": {
      "text/plain": [
       "(0.2560964183153938,\n",
       " np.float64(0.25613216287205276),\n",
       " np.float64(0.2311722091380748))"
      ]
     },
     "execution_count": 59,
     "metadata": {},
     "output_type": "execute_result"
    }
   ],
   "source": [
    "emd2_dist, sinkhorn_dist, np.sqrt(scipy_dist_real**2 + scipy_dist_imag**2)"
   ]
  },
  {
   "cell_type": "code",
   "execution_count": 82,
   "id": "3cec2872-4dd3-47e4-8925-ca1337244b05",
   "metadata": {},
   "outputs": [],
   "source": [
    "l1 = np.array([[ 1.37650088e-04,  0.00000000e+00],\n",
    "                 [ 4.75407495e-01,  4.14592788e-01],\n",
    "                 [ 4.75407495e-01, -4.14592788e-01],\n",
    "                 [ 9.98255444e-01,  5.89792744e-02],\n",
    "                 [ 9.98255444e-01, -5.89792744e-02],\n",
    "                 [ 9.99179206e-01,  0.00000000e+00],\n",
    "                 [ 8.56796503e-01,  3.37291220e-01],\n",
    "                 [ 8.56796503e-01, -3.37291220e-01]])\n",
    "l2 = np.array([[-0.32054115,  0.],\n",
    "                 [ 0.29132765,  0.64505518],\n",
    "                 [ 0.29132765, -0.64505518],\n",
    "                 [ 0.99299793,  0.11811423],\n",
    "                 [ 0.99299793, -0.11811423],\n",
    "                 [ 0.72857638,  0.60422197],\n",
    "                 [ 0.72857638, -0.60422197],\n",
    "                 [ 0.99790184,  0.        ]])\n",
    "\n",
    "m1 = np.array([2.25563911e-05, 1.03366498e-01, 1.03366498e-01, 1.63866996e-01,\n",
    "1.63866996e-01, 1.63733111e-01, 1.50888672e-01, 1.50888672e-01])\n",
    "m2 = np.array([0.04836847, 0.10680301, 0.10680301, 0.15089596, 0.15089596, 0.14282695,\n",
    " 0.14282695, 0.15057967])\n",
    "\n",
    "C = np.array([[3.20678799e-01, 7.07734273e-01, 7.07734273e-01, 9.99861245e-01,\n",
    "  9.99861245e-01, 9.46418077e-01, 9.46418077e-01, 9.97764190e-01,],\n",
    " [8.97452742e-01, 2.94954752e-01, 1.07551811e+00, 5.96489224e-01,\n",
    "  7.42749370e-01, 3.16312681e-01, 1.04979903e+00, 6.66998891e-01,],\n",
    " [8.97452742e-01, 1.07551811e+00, 2.94954752e-01, 7.42749370e-01,\n",
    "  5.96489224e-01, 1.04979903e+00, 3.16312681e-01, 6.66998891e-01,],\n",
    " [1.32011477e+00, 9.18276582e-01, 9.97703076e-01, 5.93682111e-02,\n",
    "  1.77171530e-01, 6.08289731e-01, 7.15934837e-01, 5.89803344e-02,],\n",
    " [1.32011477e+00, 9.97703076e-01, 9.18276582e-01, 1.77171530e-01,\n",
    "  5.93682111e-02, 7.15934837e-01, 6.08289731e-01, 5.89803344e-02,],\n",
    " [1.31972035e+00, 9.57679497e-01, 9.57679497e-01, 1.18275862e-01,\n",
    "  1.18275862e-01, 6.62049908e-01, 6.62049908e-01, 1.27736656e-03,],\n",
    " [1.22469968e+00, 6.43796306e-01, 1.13347231e+00, 2.58049185e-01,\n",
    "  4.75336674e-01, 2.96129070e-01, 9.50203921e-01, 3.65617400e-01,],\n",
    " [1.22469968e+00, 1.13347231e+00, 6.43796306e-01, 4.75336674e-01,\n",
    "  2.58049185e-01, 9.50203921e-01, 2.96129070e-01, 3.65617400e-01,]])\n",
    "# C = ot.dist(l1, l2, metric='euclidean')\n",
    "dist1 = ot.emd2(m1, m2, C)  # returns scalar distance"
   ]
  },
  {
   "cell_type": "code",
   "execution_count": 87,
   "id": "b73b5755-55aa-4e70-a269-2a4a544827ff",
   "metadata": {},
   "outputs": [
    {
     "name": "stdout",
     "output_type": "stream",
     "text": [
      "C shape: (8, 8), dtype: float64, contiguous: True\n",
      "m1 shape: (8,), dtype: float64, contiguous: True\n",
      "m2 shape: (8,), dtype: float64, contiguous: True\n"
     ]
    }
   ],
   "source": [
    "C = np.ascontiguousarray(C, dtype=np.float64)"
   ]
  },
  {
   "cell_type": "code",
   "execution_count": 40,
   "id": "08c8ac5b-ad1e-407f-b2b6-9d4e210bc9b3",
   "metadata": {},
   "outputs": [
    {
     "ename": "ValueError",
     "evalue": "Value and weight array-likes for the same empirical distribution must be of the same size.",
     "output_type": "error",
     "traceback": [
      "\u001b[1;31m---------------------------------------------------------------------------\u001b[0m",
      "\u001b[1;31mValueError\u001b[0m                                Traceback (most recent call last)",
      "\u001b[1;32m~\\AppData\\Local\\Temp\\ipykernel_24024\\1826220805.py\u001b[0m in \u001b[0;36m?\u001b[1;34m()\u001b[0m\n\u001b[0;32m      4\u001b[0m \u001b[0mm2\u001b[0m \u001b[1;33m=\u001b[0m \u001b[0mnp\u001b[0m\u001b[1;33m.\u001b[0m\u001b[0marray\u001b[0m\u001b[1;33m(\u001b[0m\u001b[1;33m[\u001b[0m\u001b[1;36m0.5\u001b[0m\u001b[1;33m,\u001b[0m\u001b[1;36m0.4\u001b[0m\u001b[1;33m,\u001b[0m\u001b[1;36m0.7\u001b[0m\u001b[1;33m,\u001b[0m\u001b[1;36m1.1\u001b[0m\u001b[1;33m]\u001b[0m\u001b[1;33m)\u001b[0m\u001b[1;33m\u001b[0m\u001b[1;33m\u001b[0m\u001b[0m\n\u001b[0;32m      5\u001b[0m \u001b[0mm1\u001b[0m \u001b[1;33m/=\u001b[0m \u001b[0mm1\u001b[0m\u001b[1;33m.\u001b[0m\u001b[0msum\u001b[0m\u001b[1;33m(\u001b[0m\u001b[1;33m)\u001b[0m\u001b[1;33m\u001b[0m\u001b[1;33m\u001b[0m\u001b[0m\n\u001b[0;32m      6\u001b[0m \u001b[0mm2\u001b[0m \u001b[1;33m/=\u001b[0m \u001b[0mm2\u001b[0m\u001b[1;33m.\u001b[0m\u001b[0msum\u001b[0m\u001b[1;33m(\u001b[0m\u001b[1;33m)\u001b[0m\u001b[1;33m\u001b[0m\u001b[1;33m\u001b[0m\u001b[0m\n\u001b[0;32m      7\u001b[0m \u001b[1;33m\u001b[0m\u001b[0m\n\u001b[1;32m----> 8\u001b[1;33m \u001b[0mwasserstein_distance\u001b[0m\u001b[1;33m(\u001b[0m\u001b[0mu_values\u001b[0m\u001b[1;33m=\u001b[0m\u001b[0ml1\u001b[0m\u001b[1;33m,\u001b[0m \u001b[0mv_values\u001b[0m\u001b[1;33m=\u001b[0m\u001b[0ml2\u001b[0m\u001b[1;33m,\u001b[0m \u001b[0mu_weights\u001b[0m\u001b[1;33m=\u001b[0m\u001b[0mm1\u001b[0m\u001b[1;33m,\u001b[0m \u001b[0mv_weights\u001b[0m\u001b[1;33m=\u001b[0m\u001b[0mm2\u001b[0m\u001b[1;33m)\u001b[0m\u001b[1;33m\u001b[0m\u001b[1;33m\u001b[0m\u001b[0m\n\u001b[0m\u001b[0;32m      9\u001b[0m \u001b[0mC\u001b[0m \u001b[1;33m=\u001b[0m \u001b[0mot\u001b[0m\u001b[1;33m.\u001b[0m\u001b[0mdist\u001b[0m\u001b[1;33m(\u001b[0m\u001b[0ml1\u001b[0m\u001b[1;33m,\u001b[0m \u001b[0ml2\u001b[0m\u001b[1;33m,\u001b[0m \u001b[0mmetric\u001b[0m\u001b[1;33m=\u001b[0m\u001b[1;34m'euclidean'\u001b[0m\u001b[1;33m)\u001b[0m\u001b[1;33m\u001b[0m\u001b[1;33m\u001b[0m\u001b[0m\n\u001b[0;32m     10\u001b[0m \u001b[0mdist1\u001b[0m \u001b[1;33m=\u001b[0m \u001b[0mot\u001b[0m\u001b[1;33m.\u001b[0m\u001b[0memd2\u001b[0m\u001b[1;33m(\u001b[0m\u001b[0mm1\u001b[0m\u001b[1;33m,\u001b[0m \u001b[0mm2\u001b[0m\u001b[1;33m,\u001b[0m \u001b[0mC\u001b[0m\u001b[1;33m)\u001b[0m  \u001b[1;31m# returns scalar distance\u001b[0m\u001b[1;33m\u001b[0m\u001b[1;33m\u001b[0m\u001b[0m\n\u001b[0;32m     11\u001b[0m \u001b[0mdist2\u001b[0m \u001b[1;33m=\u001b[0m \u001b[0mot\u001b[0m\u001b[1;33m.\u001b[0m\u001b[0msinkhorn2\u001b[0m\u001b[1;33m(\u001b[0m\u001b[0mm1\u001b[0m\u001b[1;33m,\u001b[0m \u001b[0mm2\u001b[0m\u001b[1;33m,\u001b[0m \u001b[0mC\u001b[0m\u001b[1;33m,\u001b[0m \u001b[0mreg\u001b[0m\u001b[1;33m=\u001b[0m\u001b[1;36m1e-2\u001b[0m\u001b[1;33m)\u001b[0m  \u001b[1;31m# reg = entropy smoothing param\u001b[0m\u001b[1;33m\u001b[0m\u001b[1;33m\u001b[0m\u001b[0m\n",
      "\u001b[1;32m~\\Anaconda3\\envs\\koopman\\lib\\site-packages\\scipy\\stats\\_stats_py.py\u001b[0m in \u001b[0;36m?\u001b[1;34m(u_values, v_values, u_weights, v_weights)\u001b[0m\n\u001b[0;32m   9780\u001b[0m     ...                      [1.4, 0.9, 3.1, 7.2], [3.2, 3.5])\n\u001b[0;32m   9781\u001b[0m     \u001b[1;36m4.0781331438047861\u001b[0m\u001b[1;33m\u001b[0m\u001b[1;33m\u001b[0m\u001b[0m\n\u001b[0;32m   9782\u001b[0m \u001b[1;33m\u001b[0m\u001b[0m\n\u001b[0;32m   9783\u001b[0m     \"\"\"\n\u001b[1;32m-> 9784\u001b[1;33m     \u001b[1;32mreturn\u001b[0m \u001b[0m_cdf_distance\u001b[0m\u001b[1;33m(\u001b[0m\u001b[1;36m1\u001b[0m\u001b[1;33m,\u001b[0m \u001b[0mu_values\u001b[0m\u001b[1;33m,\u001b[0m \u001b[0mv_values\u001b[0m\u001b[1;33m,\u001b[0m \u001b[0mu_weights\u001b[0m\u001b[1;33m,\u001b[0m \u001b[0mv_weights\u001b[0m\u001b[1;33m)\u001b[0m\u001b[1;33m\u001b[0m\u001b[1;33m\u001b[0m\u001b[0m\n\u001b[0m",
      "\u001b[1;32m~\\Anaconda3\\envs\\koopman\\lib\\site-packages\\scipy\\stats\\_stats_py.py\u001b[0m in \u001b[0;36m?\u001b[1;34m(p, u_values, v_values, u_weights, v_weights)\u001b[0m\n\u001b[0;32m   9913\u001b[0m            \u001b[0mMunos\u001b[0m\u001b[0;31m \u001b[0m\u001b[0;31m\"\u001b[0m\u001b[0mThe\u001b[0m \u001b[0mCramer\u001b[0m \u001b[0mDistance\u001b[0m \u001b[1;32mas\u001b[0m \u001b[0ma\u001b[0m \u001b[0mSolution\u001b[0m \u001b[0mto\u001b[0m \u001b[0mBiased\u001b[0m \u001b[0mWasserstein\u001b[0m\u001b[1;33m\u001b[0m\u001b[1;33m\u001b[0m\u001b[0m\n\u001b[0;32m   9914\u001b[0m            \u001b[0mGradients\u001b[0m\u001b[0;31m\"\u001b[0m \u001b[1;33m(\u001b[0m\u001b[1;36m2017\u001b[0m\u001b[1;33m)\u001b[0m\u001b[1;33m.\u001b[0m \u001b[1;33m:\u001b[0m\u001b[0marXiv\u001b[0m\u001b[1;33m:\u001b[0m\u001b[0;31m`\u001b[0m\u001b[1;36m1705.10743\u001b[0m\u001b[0;31m`\u001b[0m\u001b[1;33m.\u001b[0m\u001b[1;33m\u001b[0m\u001b[1;33m\u001b[0m\u001b[0m\n\u001b[0;32m   9915\u001b[0m \u001b[1;33m\u001b[0m\u001b[0m\n\u001b[0;32m   9916\u001b[0m     \"\"\"\n\u001b[1;32m-> 9917\u001b[1;33m     \u001b[0mu_values\u001b[0m\u001b[1;33m,\u001b[0m \u001b[0mu_weights\u001b[0m \u001b[1;33m=\u001b[0m \u001b[0m_validate_distribution\u001b[0m\u001b[1;33m(\u001b[0m\u001b[0mu_values\u001b[0m\u001b[1;33m,\u001b[0m \u001b[0mu_weights\u001b[0m\u001b[1;33m)\u001b[0m\u001b[1;33m\u001b[0m\u001b[1;33m\u001b[0m\u001b[0m\n\u001b[0m\u001b[0;32m   9918\u001b[0m     \u001b[0mv_values\u001b[0m\u001b[1;33m,\u001b[0m \u001b[0mv_weights\u001b[0m \u001b[1;33m=\u001b[0m \u001b[0m_validate_distribution\u001b[0m\u001b[1;33m(\u001b[0m\u001b[0mv_values\u001b[0m\u001b[1;33m,\u001b[0m \u001b[0mv_weights\u001b[0m\u001b[1;33m)\u001b[0m\u001b[1;33m\u001b[0m\u001b[1;33m\u001b[0m\u001b[0m\n\u001b[0;32m   9919\u001b[0m \u001b[1;33m\u001b[0m\u001b[0m\n\u001b[0;32m   9920\u001b[0m     \u001b[0mu_sorter\u001b[0m \u001b[1;33m=\u001b[0m \u001b[0mnp\u001b[0m\u001b[1;33m.\u001b[0m\u001b[0margsort\u001b[0m\u001b[1;33m(\u001b[0m\u001b[0mu_values\u001b[0m\u001b[1;33m)\u001b[0m\u001b[1;33m\u001b[0m\u001b[1;33m\u001b[0m\u001b[0m\n",
      "\u001b[1;32m~\\Anaconda3\\envs\\koopman\\lib\\site-packages\\scipy\\stats\\_stats_py.py\u001b[0m in \u001b[0;36m?\u001b[1;34m(values, weights)\u001b[0m\n\u001b[0;32m   9985\u001b[0m     \u001b[1;31m# Validate the weight array, if specified.\u001b[0m\u001b[1;33m\u001b[0m\u001b[1;33m\u001b[0m\u001b[0m\n\u001b[0;32m   9986\u001b[0m     \u001b[1;32mif\u001b[0m \u001b[0mweights\u001b[0m \u001b[1;32mis\u001b[0m \u001b[1;32mnot\u001b[0m \u001b[1;32mNone\u001b[0m\u001b[1;33m:\u001b[0m\u001b[1;33m\u001b[0m\u001b[1;33m\u001b[0m\u001b[0m\n\u001b[0;32m   9987\u001b[0m         \u001b[0mweights\u001b[0m \u001b[1;33m=\u001b[0m \u001b[0mnp\u001b[0m\u001b[1;33m.\u001b[0m\u001b[0masarray\u001b[0m\u001b[1;33m(\u001b[0m\u001b[0mweights\u001b[0m\u001b[1;33m,\u001b[0m \u001b[0mdtype\u001b[0m\u001b[1;33m=\u001b[0m\u001b[0mfloat\u001b[0m\u001b[1;33m)\u001b[0m\u001b[1;33m\u001b[0m\u001b[1;33m\u001b[0m\u001b[0m\n\u001b[0;32m   9988\u001b[0m         \u001b[1;32mif\u001b[0m \u001b[0mlen\u001b[0m\u001b[1;33m(\u001b[0m\u001b[0mweights\u001b[0m\u001b[1;33m)\u001b[0m \u001b[1;33m!=\u001b[0m \u001b[0mlen\u001b[0m\u001b[1;33m(\u001b[0m\u001b[0mvalues\u001b[0m\u001b[1;33m)\u001b[0m\u001b[1;33m:\u001b[0m\u001b[1;33m\u001b[0m\u001b[1;33m\u001b[0m\u001b[0m\n\u001b[1;32m-> 9989\u001b[1;33m             raise ValueError('Value and weight array-likes for the same '\n\u001b[0m\u001b[0;32m   9990\u001b[0m                              'empirical distribution must be of the same size.')\n\u001b[0;32m   9991\u001b[0m         \u001b[1;32mif\u001b[0m \u001b[0mnp\u001b[0m\u001b[1;33m.\u001b[0m\u001b[0many\u001b[0m\u001b[1;33m(\u001b[0m\u001b[0mweights\u001b[0m \u001b[1;33m<\u001b[0m \u001b[1;36m0\u001b[0m\u001b[1;33m)\u001b[0m\u001b[1;33m:\u001b[0m\u001b[1;33m\u001b[0m\u001b[1;33m\u001b[0m\u001b[0m\n\u001b[0;32m   9992\u001b[0m             \u001b[1;32mraise\u001b[0m \u001b[0mValueError\u001b[0m\u001b[1;33m(\u001b[0m\u001b[1;34m'All weights must be non-negative.'\u001b[0m\u001b[1;33m)\u001b[0m\u001b[1;33m\u001b[0m\u001b[1;33m\u001b[0m\u001b[0m\n",
      "\u001b[1;31mValueError\u001b[0m: Value and weight array-likes for the same empirical distribution must be of the same size."
     ]
    }
   ],
   "source": [
    "l1 = np.array([[1,2,3,4],[1,2,3,4]])\n",
    "l2 = np.array([[1,2,2.7,4.1],[1,2,3,4]])\n",
    "m1 = np.array([0.7,0.5,0.7,1.0])\n",
    "m2 = np.array([0.5,0.4,0.7,1.1])\n",
    "m1 /= m1.sum()\n",
    "m2 /= m2.sum()\n",
    "\n",
    "vals = wasserstein_distance(u_values=l1, v_values=l2, u_weights=m1, v_weights=m2)\n",
    "C = ot.dist(l1, l2, metric='euclidean')\n",
    "dist1 = ot.emd2(m1, m2, C)  # returns scalar distance\n",
    "dist2 = ot.sinkhorn2(m1, m2, C, reg=1e-2)  # reg = entropy smoothing param"
   ]
  },
  {
   "cell_type": "code",
   "execution_count": 29,
   "id": "d283aa79-8bb9-44a2-b384-32185f9f93d6",
   "metadata": {},
   "outputs": [
    {
     "ename": "ValueError",
     "evalue": "object too deep for desired array",
     "output_type": "error",
     "traceback": [
      "\u001b[1;31m---------------------------------------------------------------------------\u001b[0m",
      "\u001b[1;31mValueError\u001b[0m                                Traceback (most recent call last)",
      "\u001b[1;32m~\\AppData\\Local\\Temp\\ipykernel_24024\\2812646711.py\u001b[0m in \u001b[0;36m?\u001b[1;34m()\u001b[0m\n\u001b[0;32m      7\u001b[0m \u001b[1;33m\u001b[0m\u001b[0m\n\u001b[0;32m      8\u001b[0m \u001b[0ml1\u001b[0m \u001b[1;33m=\u001b[0m \u001b[0mnp\u001b[0m\u001b[1;33m.\u001b[0m\u001b[0mstack\u001b[0m\u001b[1;33m(\u001b[0m\u001b[1;33m[\u001b[0m\u001b[0ml1\u001b[0m\u001b[1;33m.\u001b[0m\u001b[0mreal\u001b[0m\u001b[1;33m,\u001b[0m \u001b[0ml1\u001b[0m\u001b[1;33m.\u001b[0m\u001b[0mimag\u001b[0m\u001b[1;33m]\u001b[0m\u001b[1;33m,\u001b[0m \u001b[0maxis\u001b[0m\u001b[1;33m=\u001b[0m\u001b[1;36m1\u001b[0m\u001b[1;33m)\u001b[0m\u001b[1;33m\u001b[0m\u001b[1;33m\u001b[0m\u001b[0m\n\u001b[0;32m      9\u001b[0m \u001b[0ml2\u001b[0m \u001b[1;33m=\u001b[0m \u001b[0mnp\u001b[0m\u001b[1;33m.\u001b[0m\u001b[0mstack\u001b[0m\u001b[1;33m(\u001b[0m\u001b[1;33m[\u001b[0m\u001b[0ml2\u001b[0m\u001b[1;33m.\u001b[0m\u001b[0mreal\u001b[0m\u001b[1;33m,\u001b[0m \u001b[0ml2\u001b[0m\u001b[1;33m.\u001b[0m\u001b[0mimag\u001b[0m\u001b[1;33m]\u001b[0m\u001b[1;33m,\u001b[0m \u001b[0maxis\u001b[0m\u001b[1;33m=\u001b[0m\u001b[1;36m1\u001b[0m\u001b[1;33m)\u001b[0m\u001b[1;33m\u001b[0m\u001b[1;33m\u001b[0m\u001b[0m\n\u001b[0;32m     10\u001b[0m \u001b[1;33m\u001b[0m\u001b[0m\n\u001b[1;32m---> 11\u001b[1;33m \u001b[0mwasserstein_distance\u001b[0m\u001b[1;33m(\u001b[0m\u001b[0mu_values\u001b[0m\u001b[1;33m=\u001b[0m\u001b[0ml1\u001b[0m\u001b[1;33m,\u001b[0m \u001b[0mv_values\u001b[0m\u001b[1;33m=\u001b[0m\u001b[0ml2\u001b[0m\u001b[1;33m,\u001b[0m \u001b[0mu_weights\u001b[0m\u001b[1;33m=\u001b[0m\u001b[0mm1\u001b[0m\u001b[1;33m,\u001b[0m \u001b[0mv_weights\u001b[0m\u001b[1;33m=\u001b[0m\u001b[0mm2\u001b[0m\u001b[1;33m)\u001b[0m\u001b[1;33m\u001b[0m\u001b[1;33m\u001b[0m\u001b[0m\n\u001b[0m\u001b[0;32m     12\u001b[0m \u001b[1;33m\u001b[0m\u001b[0m\n\u001b[0;32m     13\u001b[0m \u001b[1;31m# Cost matrix between supports\u001b[0m\u001b[1;33m\u001b[0m\u001b[1;33m\u001b[0m\u001b[0m\n\u001b[0;32m     14\u001b[0m \u001b[0mC\u001b[0m \u001b[1;33m=\u001b[0m \u001b[0mot\u001b[0m\u001b[1;33m.\u001b[0m\u001b[0mdist\u001b[0m\u001b[1;33m(\u001b[0m\u001b[0ml1\u001b[0m\u001b[1;33m,\u001b[0m \u001b[0ml2\u001b[0m\u001b[1;33m,\u001b[0m \u001b[0mmetric\u001b[0m\u001b[1;33m=\u001b[0m\u001b[1;34m'euclidean'\u001b[0m\u001b[1;33m)\u001b[0m\u001b[1;33m\u001b[0m\u001b[1;33m\u001b[0m\u001b[0m\n",
      "\u001b[1;32m~\\Anaconda3\\envs\\koopman\\lib\\site-packages\\scipy\\stats\\_stats_py.py\u001b[0m in \u001b[0;36m?\u001b[1;34m(u_values, v_values, u_weights, v_weights)\u001b[0m\n\u001b[0;32m   9780\u001b[0m     ...                      [1.4, 0.9, 3.1, 7.2], [3.2, 3.5])\n\u001b[0;32m   9781\u001b[0m     \u001b[1;36m4.0781331438047861\u001b[0m\u001b[1;33m\u001b[0m\u001b[1;33m\u001b[0m\u001b[0m\n\u001b[0;32m   9782\u001b[0m \u001b[1;33m\u001b[0m\u001b[0m\n\u001b[0;32m   9783\u001b[0m     \"\"\"\n\u001b[1;32m-> 9784\u001b[1;33m     \u001b[1;32mreturn\u001b[0m \u001b[0m_cdf_distance\u001b[0m\u001b[1;33m(\u001b[0m\u001b[1;36m1\u001b[0m\u001b[1;33m,\u001b[0m \u001b[0mu_values\u001b[0m\u001b[1;33m,\u001b[0m \u001b[0mv_values\u001b[0m\u001b[1;33m,\u001b[0m \u001b[0mu_weights\u001b[0m\u001b[1;33m,\u001b[0m \u001b[0mv_weights\u001b[0m\u001b[1;33m)\u001b[0m\u001b[1;33m\u001b[0m\u001b[1;33m\u001b[0m\u001b[0m\n\u001b[0m",
      "\u001b[1;32m~\\Anaconda3\\envs\\koopman\\lib\\site-packages\\scipy\\stats\\_stats_py.py\u001b[0m in \u001b[0;36m?\u001b[1;34m(p, u_values, v_values, u_weights, v_weights)\u001b[0m\n\u001b[0;32m   9927\u001b[0m     \u001b[0mdeltas\u001b[0m \u001b[1;33m=\u001b[0m \u001b[0mnp\u001b[0m\u001b[1;33m.\u001b[0m\u001b[0mdiff\u001b[0m\u001b[1;33m(\u001b[0m\u001b[0mall_values\u001b[0m\u001b[1;33m)\u001b[0m\u001b[1;33m\u001b[0m\u001b[1;33m\u001b[0m\u001b[0m\n\u001b[0;32m   9928\u001b[0m \u001b[1;33m\u001b[0m\u001b[0m\n\u001b[0;32m   9929\u001b[0m     \u001b[1;31m# Get the respective positions of the values of u and v among the values of\u001b[0m\u001b[1;33m\u001b[0m\u001b[1;33m\u001b[0m\u001b[0m\n\u001b[0;32m   9930\u001b[0m     \u001b[1;31m# both distributions.\u001b[0m\u001b[1;33m\u001b[0m\u001b[1;33m\u001b[0m\u001b[0m\n\u001b[1;32m-> 9931\u001b[1;33m     \u001b[0mu_cdf_indices\u001b[0m \u001b[1;33m=\u001b[0m \u001b[0mu_values\u001b[0m\u001b[1;33m[\u001b[0m\u001b[0mu_sorter\u001b[0m\u001b[1;33m]\u001b[0m\u001b[1;33m.\u001b[0m\u001b[0msearchsorted\u001b[0m\u001b[1;33m(\u001b[0m\u001b[0mall_values\u001b[0m\u001b[1;33m[\u001b[0m\u001b[1;33m:\u001b[0m\u001b[1;33m-\u001b[0m\u001b[1;36m1\u001b[0m\u001b[1;33m]\u001b[0m\u001b[1;33m,\u001b[0m \u001b[1;34m'right'\u001b[0m\u001b[1;33m)\u001b[0m\u001b[1;33m\u001b[0m\u001b[1;33m\u001b[0m\u001b[0m\n\u001b[0m\u001b[0;32m   9932\u001b[0m     \u001b[0mv_cdf_indices\u001b[0m \u001b[1;33m=\u001b[0m \u001b[0mv_values\u001b[0m\u001b[1;33m[\u001b[0m\u001b[0mv_sorter\u001b[0m\u001b[1;33m]\u001b[0m\u001b[1;33m.\u001b[0m\u001b[0msearchsorted\u001b[0m\u001b[1;33m(\u001b[0m\u001b[0mall_values\u001b[0m\u001b[1;33m[\u001b[0m\u001b[1;33m:\u001b[0m\u001b[1;33m-\u001b[0m\u001b[1;36m1\u001b[0m\u001b[1;33m]\u001b[0m\u001b[1;33m,\u001b[0m \u001b[1;34m'right'\u001b[0m\u001b[1;33m)\u001b[0m\u001b[1;33m\u001b[0m\u001b[1;33m\u001b[0m\u001b[0m\n\u001b[0;32m   9933\u001b[0m \u001b[1;33m\u001b[0m\u001b[0m\n\u001b[0;32m   9934\u001b[0m     \u001b[1;31m# Calculate the CDFs of u and v using their weights, if specified.\u001b[0m\u001b[1;33m\u001b[0m\u001b[1;33m\u001b[0m\u001b[0m\n",
      "\u001b[1;31mValueError\u001b[0m: object too deep for desired array"
     ]
    }
   ],
   "source": [
    "l1 = np.array([1,2,3,4]) + 1j * np.array([1.1,1.9,2.3,3.8])\n",
    "l2 = np.array([1,2,2.7,4.1]) + 1j * np.array([1.01,1.8,2.6,4.2])\n",
    "m1 = np.array([0.7,0.5,0.7,1.0])\n",
    "m2 = np.array([0.5,0.4,0.7,1.1])\n",
    "m1 /= m1.sum()\n",
    "m2 /= m2.sum()\n",
    "\n",
    "l1 = np.stack([l1.real, l1.imag], axis=1)\n",
    "l2 = np.stack([l2.real, l2.imag], axis=1)\n",
    "\n",
    "wasserstein_distance(u_values=l1, v_values=l2, u_weights=m1, v_weights=m2)\n",
    "\n",
    "# Cost matrix between supports\n",
    "C = ot.dist(l1, l2, metric='euclidean')\n",
    "\n",
    "# Compute Wasserstein-1 distance\n",
    "dist = ot.emd2(m1, m2, C)  # returns scalar distance"
   ]
  },
  {
   "cell_type": "code",
   "execution_count": 28,
   "id": "3d144763-7ecf-4558-814f-68fd94e0c9ff",
   "metadata": {},
   "outputs": [
    {
     "data": {
      "text/plain": [
       "0.5295319623010462"
      ]
     },
     "execution_count": 28,
     "metadata": {},
     "output_type": "execute_result"
    }
   ],
   "source": [
    "dist"
   ]
  },
  {
   "cell_type": "code",
   "execution_count": 6,
   "id": "d19f96df-6cbc-4bdc-a611-bd41f7fa5a50",
   "metadata": {},
   "outputs": [],
   "source": [
    "def compute_wasserstein_metric(l1, l2, m1, m2, q):\n",
    "    \n",
    "    # --- Step 1: Sample Inputs ---\n",
    "    n = len(l1)\n",
    "    n_bar = len(l1)\n",
    "\n",
    "    m1 = m1 / np.sum(m1)\n",
    "    m2 = m2 / np.sum(m2)\n",
    "    \n",
    "    assert np.isclose(np.sum(m1), 1.0)\n",
    "    assert np.isclose(np.sum(m2), 1.0)\n",
    "    \n",
    "    # --- Step 2: Compute cost matrix C (shape n x n_bar) ---\n",
    "    C = np.linalg.norm(l1[:, None, :] - l2[None, :, :], axis=2) ** 2\n",
    "    # Flatten to 1D for linprog\n",
    "    c = C.flatten()  # size (n * n_bar,)\n",
    "    \n",
    "    # --- Step 3: Equality Constraints ---\n",
    "    \n",
    "    # Total number of variables\n",
    "    N = n * n_bar\n",
    "    \n",
    "    # 1. Row sum constraints: each row i must sum to m[i]\n",
    "    A_eq_rows = np.zeros((n, N))\n",
    "    for i in range(n):\n",
    "        for j in range(n_bar):\n",
    "            A_eq_rows[i, i * n_bar + j] = 1\n",
    "    b_eq_rows = m1\n",
    "    \n",
    "    # 2. Column sum constraints: each column j must sum to m_bar[j]\n",
    "    A_eq_cols = np.zeros((n_bar, N))\n",
    "    for j in range(n_bar):\n",
    "        for i in range(n):\n",
    "            A_eq_cols[j, i * n_bar + j] = 1\n",
    "    b_eq_cols = m2\n",
    "    \n",
    "    # 3. Total mass constraint\n",
    "    A_eq_total = np.ones((1, N))\n",
    "    b_eq_total = np.array([1.0])\n",
    "    \n",
    "    # Combine constraints\n",
    "    A_eq = np.vstack([A_eq_rows, A_eq_cols, A_eq_total])\n",
    "    b_eq = np.concatenate([b_eq_rows, b_eq_cols, b_eq_total])\n",
    "    \n",
    "    # --- Step 4: Bounds ---\n",
    "    bounds = [(0, None)] * N  # rho_ij >= 0\n",
    "    \n",
    "    # --- Step 5: Solve ---\n",
    "    result = linprog(c, A_eq=A_eq, b_eq=b_eq, bounds=bounds, method='highs')\n",
    "    \n",
    "    # --- Step 6: Extract solution ---\n",
    "    if result.success:\n",
    "        rho_star = result.x.reshape((n, n_bar))\n",
    "        transport_cost = np.sum(rho_star * C)\n",
    "        wasserstein_metric = transport_cost ** (1 / q)\n",
    "    else:\n",
    "        print(\"Optimization failed:\", result.message)\n",
    "\n",
    "    return wasserstein_metric"
   ]
  },
  {
   "cell_type": "code",
   "execution_count": 7,
   "id": "ad0c7fdb-bfb5-4d5a-bc81-2de8a5dfff35",
   "metadata": {},
   "outputs": [],
   "source": [
    "dim = 10\n",
    "l1 = np.random.random(dim) + 1j * np.random.random(dim)\n",
    "l2 = np.random.random(dim) + 1j * np.random.random(dim)\n",
    "m1 = np.random.random(dim) + 1j * np.random.random(dim)\n",
    "m2 = np.random.random(dim) + 1j * np.random.random(dim)\n",
    "q = 1"
   ]
  },
  {
   "cell_type": "code",
   "execution_count": 8,
   "id": "9b440c68-1857-45f3-baaa-604d27620ab9",
   "metadata": {},
   "outputs": [
    {
     "name": "stderr",
     "output_type": "stream",
     "text": [
      "  0%|                                                                                                                  | 0/100 [00:00<?, ?it/s]C:\\Users\\peterdb1\\Anaconda3\\envs\\koopman\\lib\\site-packages\\scipy\\optimize\\_linprog_util.py:209: ComplexWarning: Casting complex values to real discards the imaginary part\n",
      "  b = np.array(b, dtype=float, copy=True).squeeze()\n",
      "100%|███████████████████████████████████████████████████████████████████████████████████████████████████████| 100/100 [00:00<00:00, 119.44it/s]\n"
     ]
    }
   ],
   "source": [
    "for i in tqdm(range(100)):\n",
    "    manual_metric = compute_wasserstein_metric(l1[:,np.newaxis],l2[:,np.newaxis],m1,m2,q)"
   ]
  },
  {
   "cell_type": "code",
   "execution_count": 9,
   "id": "289ccca6-09e5-41a9-a1a2-a80a3ff0377f",
   "metadata": {},
   "outputs": [
    {
     "name": "stderr",
     "output_type": "stream",
     "text": [
      "  0%|                                                                                                                  | 0/100 [00:00<?, ?it/s]C:\\Users\\peterdb1\\Anaconda3\\envs\\koopman\\lib\\site-packages\\scipy\\stats\\_stats_py.py:9981: ComplexWarning: Casting complex values to real discards the imaginary part\n",
      "  values = np.asarray(values, dtype=float)\n",
      "C:\\Users\\peterdb1\\Anaconda3\\envs\\koopman\\lib\\site-packages\\scipy\\stats\\_stats_py.py:9987: ComplexWarning: Casting complex values to real discards the imaginary part\n",
      "  weights = np.asarray(weights, dtype=float)\n",
      "100%|██████████████████████████████████████████████████████████████████████████████████████████████████████| 100/100 [00:00<00:00, 2015.44it/s]\n"
     ]
    }
   ],
   "source": [
    "for i in tqdm(range(100)):\n",
    "    scipy_metric = wasserstein_distance(u_values=l1, v_values=l2, u_weights=m1, v_weights=m2)"
   ]
  },
  {
   "cell_type": "code",
   "execution_count": 4,
   "id": "c1a683b7-d939-444c-8050-6787a9d89762",
   "metadata": {},
   "outputs": [],
   "source": [
    "def compute_swd(l1, l2, m1, m2, n_projections=50):\n",
    "    return sliced_wasserstein_distance(l1, l2, n_projections=n_projections, p=1, a=m1, b=m2)"
   ]
  },
  {
   "cell_type": "code",
   "execution_count": 5,
   "id": "4601a000-2bf4-4044-a4a7-4637863605da",
   "metadata": {},
   "outputs": [
    {
     "name": "stderr",
     "output_type": "stream",
     "text": [
      "100%|█████████████████████████████████████████████████████████████████████████████████████████████████████| 1000/1000 [00:01<00:00, 644.44it/s]\n"
     ]
    }
   ],
   "source": [
    "for i in tqdm(range(1000)):\n",
    "    compute_swd(l1[:,np.newaxis], l2[:,np.newaxis], m1, m2)"
   ]
  }
 ],
 "metadata": {
  "kernelspec": {
   "display_name": "Python 3 (ipykernel)",
   "language": "python",
   "name": "python3"
  },
  "language_info": {
   "codemirror_mode": {
    "name": "ipython",
    "version": 3
   },
   "file_extension": ".py",
   "mimetype": "text/x-python",
   "name": "python",
   "nbconvert_exporter": "python",
   "pygments_lexer": "ipython3",
   "version": "3.10.18"
  }
 },
 "nbformat": 4,
 "nbformat_minor": 5
}
