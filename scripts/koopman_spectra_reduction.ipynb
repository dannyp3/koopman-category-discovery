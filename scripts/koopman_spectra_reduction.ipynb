{
 "cells": [
  {
   "cell_type": "code",
   "execution_count": 1,
   "id": "40615a51-10d0-45e8-960a-879e3ad3fe1b",
   "metadata": {},
   "outputs": [],
   "source": [
    "import numpy as np\n",
    "import pandas as pd\n",
    "\n",
    "from kcm.koopman_category_model import KoopmanCategoryModel"
   ]
  },
  {
   "cell_type": "code",
   "execution_count": null,
   "id": "8c66d528-4eb1-4c88-b3f5-7e9b329641b3",
   "metadata": {},
   "outputs": [],
   "source": [
    "eig_cols = [col for col in KCM.df_train if 'eig' in col]\n",
    "norm_mode_cols = [col for col in KCM.df_train if 'norm_mode' in col]\n",
    "KCM.df_train.loc[0,eig_cols]"
   ]
  },
  {
   "cell_type": "code",
   "execution_count": null,
   "id": "bd3ff9fd-e537-4476-80f4-6b2f72092f32",
   "metadata": {},
   "outputs": [],
   "source": [
    "KCM.df_train.loc[0,norm_mode_cols]"
   ]
  },
  {
   "cell_type": "code",
   "execution_count": null,
   "id": "3c842baf-bcc0-4ccb-9348-6b6c3f47f53f",
   "metadata": {},
   "outputs": [],
   "source": [
    "def filter_significant_modes(eigs, mode_norms, time_horizon=20, min_energy_frac=0.01):\n",
    "\n",
    "    eigs = np.array(eigs)\n",
    "    mode_norms = np.real(mode_norms)  # discard any small imaginary component\n",
    "    assert np.all(mode_norms >= 0), \"Mode norms must be non-negative\"\n",
    "\n",
    "    magnitudes = np.abs(eigs)\n",
    "\n",
    "    # Avoid divide-by-zero for real eigenvalues near 1\n",
    "    eps = 1e-8\n",
    "    stable_mask = magnitudes < 1 - eps\n",
    "    unstable_mask = magnitudes >= 1 - eps\n",
    "\n",
    "    # Compute cumulative contribution over time\n",
    "    decay_weight = np.zeros_like(magnitudes)\n",
    "\n",
    "    # Stable (decaying) modes: geometric sum\n",
    "    decay_weight[stable_mask] = (1 - magnitudes[stable_mask] ** (time_horizon + 1)) / \\\n",
    "                                 (1 - magnitudes[stable_mask])\n",
    "\n",
    "    # Nearly persistent modes: just approximate as time_horizon + 1\n",
    "    decay_weight[unstable_mask] = time_horizon + 1\n",
    "\n",
    "    # Effective energy = norm × time contribution\n",
    "    effective_energy = mode_norms * decay_weight\n",
    "\n",
    "    # Normalize\n",
    "    total_energy = effective_energy.sum()\n",
    "    energy_frac = effective_energy / total_energy\n",
    "\n",
    "    # Keep modes that contribute enough\n",
    "    keep_mask = energy_frac > min_energy_frac\n",
    "\n",
    "    return keep_mask\n",
    "\n",
    "kept = np.array([filter_significant_modes(KCM.df_train.loc[i,eig_cols], KCM.df_train.loc[i,norm_mode_cols], time_horizon=20, min_energy_frac=0.01).sum() for i in range(KCM.df_train.shape[0])])"
   ]
  },
  {
   "cell_type": "code",
   "execution_count": null,
   "id": "ce0a80fc-f185-498a-b476-d914c73db584",
   "metadata": {},
   "outputs": [],
   "source": []
  }
 ],
 "metadata": {
  "kernelspec": {
   "display_name": "Python 3 (ipykernel)",
   "language": "python",
   "name": "python3"
  },
  "language_info": {
   "codemirror_mode": {
    "name": "ipython",
    "version": 3
   },
   "file_extension": ".py",
   "mimetype": "text/x-python",
   "name": "python",
   "nbconvert_exporter": "python",
   "pygments_lexer": "ipython3",
   "version": "3.10.18"
  }
 },
 "nbformat": 4,
 "nbformat_minor": 5
}
